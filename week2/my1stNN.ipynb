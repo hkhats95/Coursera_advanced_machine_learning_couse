{
 "cells": [
  {
   "cell_type": "code",
   "execution_count": 1,
   "metadata": {},
   "outputs": [
    {
     "name": "stderr",
     "output_type": "stream",
     "text": [
      "Using TensorFlow backend.\n"
     ]
    },
    {
     "name": "stdout",
     "output_type": "stream",
     "text": [
      "(50000, 28, 28) (50000,) (10000, 28, 28) (10000,) (10000, 28, 28) (10000,)\n"
     ]
    },
    {
     "data": {
      "image/png": "[encoded data removed]",
      "text/plain": [
       "<matplotlib.figure.Figure at 0x2e0a77fba8>"
      ]
     },
     "metadata": {},
     "output_type": "display_data"
    }
   ],
   "source": [
    "from preprocessed_mnist import load_dataset\n",
    "X_train, y_train, X_val, y_val, X_test, y_test = load_dataset()\n",
    "print(X_train.shape, y_train.shape, X_val.shape, y_val.shape, X_test.shape, y_test.shape)\n",
    "import matplotlib.pyplot as plt\n",
    "%matplotlib inline\n",
    "plt.imshow(X_train[0], cmap=\"Greys\");"
   ]
  },
  {
   "cell_type": "code",
   "execution_count": 2,
   "metadata": {},
   "outputs": [],
   "source": [
    "import tensorflow as tf\n",
    "import numpy as np"
   ]
  },
  {
   "cell_type": "code",
   "execution_count": 3,
   "metadata": {},
   "outputs": [],
   "source": [
    "X_train = np.reshape(X_train, (-1, 784))\n",
    "X_test = np.reshape(X_test, (-1, 784))"
   ]
  },
  {
   "cell_type": "code",
   "execution_count": 4,
   "metadata": {},
   "outputs": [],
   "source": [
    "X = tf.placeholder('float32', shape=(None, 784))\n",
    "y = tf.placeholder('float32', shape=(None,))"
   ]
  },
  {
   "cell_type": "code",
   "execution_count": 5,
   "metadata": {},
   "outputs": [],
   "source": [
    "# number of nodes in hidden layers\n",
    "nodes_hll_1 = 384\n",
    "# nodes_hll_2 = 500\n",
    "# nodes_hll_3 = 250"
   ]
  },
  {
   "cell_type": "code",
   "execution_count": 6,
   "metadata": {},
   "outputs": [],
   "source": [
    "# layers layout\n",
    "hidden_layer_1 = {\n",
    "    'weights':tf.Variable(tf.random_normal([784, nodes_hll_1])),\n",
    "    'bias':tf.Variable(tf.random_normal([nodes_hll_1,]))\n",
    "}\n",
    "# hidden_layer_2 = {\n",
    "#     'weights':tf.Variable(tf.random_normal([nodes_hll_1, nodes_hll_2])),\n",
    "#     'bias':tf.Variable(tf.random_normal([nodes_hll_2,]))\n",
    "# }\n",
    "# hidden_layer_3 = {\n",
    "#     'weights':tf.Variable(tf.random_normal([nodes_hll_2, nodes_hll_3])),\n",
    "#     'bias':tf.Variable(tf.random_normal([nodes_hll_3,]))\n",
    "# }\n",
    "output_layer = {\n",
    "    'weights' : tf.Variable(tf.random_normal([nodes_hll_1, 10])),\n",
    "    'bias' : tf.Variable(tf.random_normal([10,]))\n",
    "}"
   ]
  },
  {
   "cell_type": "code",
   "execution_count": 7,
   "metadata": {},
   "outputs": [],
   "source": [
    "l1 = tf.add(tf.matmul(X, hidden_layer_1['weights']), hidden_layer_1['bias'])\n",
    "l1 = tf.nn.relu(l1)\n",
    "\n",
    "# l2 = tf.add(tf.matmul(l1, hidden_layer_2['weights']), hidden_layer_2['bias'])\n",
    "# l2 = tf.nn.relu(l2)\n",
    "\n",
    "# l3 = tf.add(tf.matmul(l2, hidden_layer_3['weights']), hidden_layer_3['bias'])\n",
    "# l3 = tf.nn.relu(l3)\n",
    "\n",
    "logits = tf.add(tf.matmul(l1, output_layer['weights']), output_layer['bias'])\n",
    "prediction = tf.nn.softmax(logits)"
   ]
  },
  {
   "cell_type": "code",
   "execution_count": 8,
   "metadata": {},
   "outputs": [],
   "source": [
    "one_hot = tf.one_hot(tf.cast(y, 'int32'), depth=10)\n",
    "\n",
    "cost = tf.reduce_mean(tf.nn.softmax_cross_entropy_with_logits(logits=logits, labels=one_hot))\n",
    "\n",
    "optimizer = tf.train.AdamOptimizer().minimize(cost)\n",
    "\n",
    "correct = tf.equal(tf.argmax(prediction, 1), tf.argmax(one_hot, 1))\n",
    "\n",
    "accuracy = 100*tf.reduce_mean(tf.cast(correct, 'float32'))"
   ]
  },
  {
   "cell_type": "code",
   "execution_count": 9,
   "metadata": {},
   "outputs": [],
   "source": [
    "%matplotlib inline\n",
    "import matplotlib.pyplot as plt\n",
    "from IPython import display\n",
    "def visualize(train_loss, test_loss):\n",
    "    plt.subplot(1,2,1)\n",
    "    plt.plot(train_loss, label=\"train_loss\")\n",
    "    plt.grid()\n",
    "    plt.ylim(0, train_loss[0])\n",
    "    plt.xlim(0, epochs)\n",
    "    plt.subplot(1,2,2)\n",
    "    plt.plot(test_loss, label=\"test_loss\")\n",
    "    plt.grid()\n",
    "    plt.ylim(0, test_loss[0])\n",
    "    plt.xlim(0, epochs)\n",
    "    display.clear_output(wait=True)\n",
    "    plt.show()"
   ]
  },
  {
   "cell_type": "code",
   "execution_count": 10,
   "metadata": {},
   "outputs": [],
   "source": [
    "def train_network():\n",
    "    r = np.random.permutation(len(y_train))\n",
    "    rand_train, rand_label = X_train[r], y_train[r]\n",
    "    epoch_loss=0\n",
    "    for i in range(int(X_train.shape[0]/batch)):\n",
    "        data = rand_train[i*batch:(i+1)*batch]\n",
    "        label = rand_label[i*batch:(i+1)*batch]\n",
    "        _, l = sess.run([optimizer, cost], feed_dict={X:data, y:label})\n",
    "        epoch_loss += l\n",
    "    return epoch_loss"
   ]
  },
  {
   "cell_type": "code",
   "execution_count": 11,
   "metadata": {},
   "outputs": [],
   "source": [
    "def test_network():\n",
    "    return sess.run(cost, feed_dict={X:X_test, y:y_test})"
   ]
  },
  {
   "cell_type": "code",
   "execution_count": 12,
   "metadata": {},
   "outputs": [
    {
     "data": {
      "image/png": "[encoded data removed]",
      "text/plain": [
       "<matplotlib.figure.Figure at 0x2e48fa8ac8>"
      ]
     },
     "metadata": {},
     "output_type": "display_data"
    }
   ],
   "source": [
    "epochs=20\n",
    "batch=32\n",
    "train_losses = []\n",
    "test_losses = []\n",
    "sess=tf.Session()\n",
    "sess.run(tf.global_variables_initializer())\n",
    "for epoch in range(epochs):\n",
    "    epoch_loss = train_network()\n",
    "    test_loss = test_network()\n",
    "    train_losses.append(epoch_loss)\n",
    "    test_losses.append(test_loss)\n",
    "    visualize(train_losses, test_losses)\n",
    "    "
   ]
  },
  {
   "cell_type": "code",
   "execution_count": 13,
   "metadata": {},
   "outputs": [
    {
     "name": "stdout",
     "output_type": "stream",
     "text": [
      "accuracy 96.19\n"
     ]
    }
   ],
   "source": [
    "print('Test accuracy:', sess.run(accuracy, feed_dict={X:X_test,y:y_test}))"
   ]
  },
  {
   "cell_type": "code",
   "execution_count": 14,
   "metadata": {},
   "outputs": [],
   "source": [
    "sess.close()"
   ]
  },
  {
   "cell_type": "code",
   "execution_count": null,
   "metadata": {},
   "outputs": [],
   "source": []
  }
 ],
 "metadata": {
  "kernelspec": {
   "display_name": "Python 3",
   "language": "python",
   "name": "python3"
  },
  "language_info": {
   "codemirror_mode": {
    "name": "ipython",
    "version": 3
   },
   "file_extension": ".py",
   "mimetype": "text/x-python",
   "name": "python",
   "nbconvert_exporter": "python",
   "pygments_lexer": "ipython3",
   "version": "3.5.3"
  }
 },
 "nbformat": 4,
 "nbformat_minor": 2
}

{
 "cells": [
  {
   "cell_type": "markdown",
   "metadata": {
    "slideshow": {
     "slide_type": "slide"
    }
   },
   "source": [
    "# Going deeper with Tensorflow\n",
    "\n",
    "In this video, we're going to study the tools you'll use to build deep learning models. Namely, [Tensorflow](https://www.tensorflow.org/).\n",
    "\n",
    "If you're running this notebook outside the course environment, you'll need to install tensorflow:\n",
    "* `pip install tensorflow` should install cpu-only TF on Linux & Mac OS\n",
    "* If you want GPU support from offset, see [TF install page](https://www.tensorflow.org/install/)"
   ]
  },
  {
   "cell_type": "code",
   "execution_count": 1,
   "metadata": {},
   "outputs": [],
   "source": [
    "import sys\n",
    "sys.path.append(\"..\")\n",
    "import grading"
   ]
  },
  {
   "cell_type": "markdown",
   "metadata": {},
   "source": [
    "# Visualization"
   ]
  },
  {
   "cell_type": "markdown",
   "metadata": {},
   "source": [
    "Plase note that if you are running on the Coursera platform, you won't be able to access the tensorboard instance due to the network setup there. If you run the notebook locally, you should be able to access TensorBoard on http://127.0.0.1:7007/"
   ]
  },
  {
   "cell_type": "code",
   "execution_count": null,
   "metadata": {},
   "outputs": [],
   "source": [
    "import os\n",
    "os.system(\"tensorboard --logdir=/tmp/tboard --port=7007\")"
   ]
  },
  {
   "cell_type": "code",
   "execution_count": 2,
   "metadata": {},
   "outputs": [],
   "source": [
    "import tensorflow as tf\n",
    "s = tf.InteractiveSession()"
   ]
  },
  {
   "cell_type": "code",
   "execution_count": 3,
   "metadata": {},
   "outputs": [
    {
     "name": "stdout",
     "output_type": "stream",
     "text": [
      "hello\n"
     ]
    }
   ],
   "source": [
    "print(\"hello\")"
   ]
  },
  {
   "cell_type": "markdown",
   "metadata": {},
   "source": [
    "# Warming up\n",
    "For starters, let's implement a python function that computes the sum of squares of numbers from 0 to N-1."
   ]
  },
  {
   "cell_type": "code",
   "execution_count": 6,
   "metadata": {},
   "outputs": [],
   "source": [
    "import numpy as np\n",
    "def sum_sin(N):\n",
    "    return np.sum(np.arange(N,dtype='int64')**2)"
   ]
  },
  {
   "cell_type": "code",
   "execution_count": 7,
   "metadata": {},
   "outputs": [
    {
     "name": "stdout",
     "output_type": "stream",
     "text": [
      "Wall time: 1.22 s\n"
     ]
    },
    {
     "data": {
      "text/plain": [
       "662921401752298880"
      ]
     },
     "execution_count": 7,
     "metadata": {},
     "output_type": "execute_result"
    }
   ],
   "source": [
    "%%time\n",
    "sum_sin(10**8)"
   ]
  },
  {
   "cell_type": "markdown",
   "metadata": {},
   "source": [
    "# Tensoflow teaser\n",
    "\n",
    "Doing the very same thing"
   ]
  },
  {
   "cell_type": "code",
   "execution_count": 8,
   "metadata": {},
   "outputs": [],
   "source": [
    "# An integer parameter\n",
    "N = tf.placeholder('int64', name=\"input_to_your_function\")\n",
    "\n",
    "# A recipe on how to produce the same result\n",
    "result = tf.reduce_sum(tf.range(N)**2)"
   ]
  },
  {
   "cell_type": "code",
   "execution_count": 9,
   "metadata": {},
   "outputs": [
    {
     "data": {
      "text/plain": [
       "<tf.Tensor 'Sum:0' shape=() dtype=int64>"
      ]
     },
     "execution_count": 9,
     "metadata": {},
     "output_type": "execute_result"
    }
   ],
   "source": [
    "result"
   ]
  },
  {
   "cell_type": "code",
   "execution_count": 10,
   "metadata": {},
   "outputs": [
    {
     "name": "stdout",
     "output_type": "stream",
     "text": [
      "Wall time: 9.09 s\n"
     ]
    },
    {
     "data": {
      "text/plain": [
       "662921401752298880"
      ]
     },
     "execution_count": 10,
     "metadata": {},
     "output_type": "execute_result"
    }
   ],
   "source": [
    "%%time\n",
    "result.eval({N: 10**8})"
   ]
  },
  {
   "cell_type": "code",
   "execution_count": 11,
   "metadata": {},
   "outputs": [],
   "source": [
    "writer = tf.summary.FileWriter(\"/tmp/tboard\", graph=s.graph)"
   ]
  },
  {
   "cell_type": "markdown",
   "metadata": {},
   "source": [
    "# How does it work?\n",
    "1. Define placeholders where you'll send inputs\n",
    "2. Make symbolic graph: a recipe for mathematical transformation of those placeholders\n",
    "3. Compute outputs of your graph with particular values for each placeholder\n",
    "  * `output.eval({placeholder:value})`\n",
    "  * `s.run(output, {placeholder:value})`\n",
    "\n",
    "So far there are two main entities: \"placeholder\" and \"transformation\"\n",
    "* Both can be numbers, vectors, matrices, tensors, etc.\n",
    "* Both can be int32/64, floats, booleans (uint8) of various size.\n",
    "\n",
    "* You can define new transformations as an arbitrary operation on placeholders and other transformations\n",
    " * `tf.reduce_sum(tf.arange(N)**2)` are 3 sequential transformations of placeholder `N`\n",
    " * There's a tensorflow symbolic version for every numpy function\n",
    "   * `a+b, a/b, a**b, ...` behave just like in numpy\n",
    "   * `np.mean` -> `tf.reduce_mean`\n",
    "   * `np.arange` -> `tf.range`\n",
    "   * `np.cumsum` -> `tf.cumsum`\n",
    "   * If if you can't find the op you need, see the [docs](https://www.tensorflow.org/api_docs/python).\n",
    "   \n",
    "`tf.contrib` has many high-level features, may be worth a look."
   ]
  },
  {
   "cell_type": "code",
   "execution_count": 12,
   "metadata": {},
   "outputs": [],
   "source": [
    "with tf.name_scope(\"Placeholders_examples\"):\n",
    "    # Default placeholder that can be arbitrary float32\n",
    "    # scalar, vertor, matrix, etc.\n",
    "    arbitrary_input = tf.placeholder('float32')\n",
    "\n",
    "    # Input vector of arbitrary length\n",
    "    input_vector = tf.placeholder('float32', shape=(None,))\n",
    "\n",
    "    # Input vector that _must_ have 10 elements and integer type\n",
    "    fixed_vector = tf.placeholder('int32', shape=(10,))\n",
    "\n",
    "    # Matrix of arbitrary n_rows and 15 columns\n",
    "    # (e.g. a minibatch your data table)\n",
    "    input_matrix = tf.placeholder('float32', shape=(None, 15))\n",
    "    \n",
    "    # You can generally use None whenever you don't need a specific shape\n",
    "    input1 = tf.placeholder('float64', shape=(None, 100, None))\n",
    "    input2 = tf.placeholder('int32', shape=(None, None, 3, 224, 224))\n",
    "\n",
    "    # elementwise multiplication\n",
    "    double_the_vector = input_vector*2\n",
    "\n",
    "    # elementwise cosine\n",
    "    elementwise_cosine = tf.cos(input_vector)\n",
    "\n",
    "    # difference between squared vector and vector itself plus one\n",
    "    vector_squares = input_vector**2 - input_vector + 1"
   ]
  },
  {
   "cell_type": "code",
   "execution_count": 13,
   "metadata": {},
   "outputs": [],
   "source": [
    "my_vector =  tf.placeholder('float32', shape=(None,), name=\"VECTOR_1\")\n",
    "my_vector2 = tf.placeholder('float32', shape=(None,))\n",
    "my_transformation = my_vector * my_vector2 / (tf.sin(my_vector) + 1)"
   ]
  },
  {
   "cell_type": "code",
   "execution_count": 14,
   "metadata": {},
   "outputs": [
    {
     "name": "stdout",
     "output_type": "stream",
     "text": [
      "Tensor(\"truediv:0\", shape=(?,), dtype=float32)\n"
     ]
    }
   ],
   "source": [
    "print(my_transformation)"
   ]
  },
  {
   "cell_type": "code",
   "execution_count": 15,
   "metadata": {},
   "outputs": [
    {
     "name": "stdout",
     "output_type": "stream",
     "text": [
      "[ 0.  1.  2.  3.  4.]\n"
     ]
    },
    {
     "data": {
      "text/plain": [
       "array([ 0.        ,  1.62913239,  2.09501147,  2.62899613,  0.        ], dtype=float32)"
      ]
     },
     "execution_count": 15,
     "metadata": {},
     "output_type": "execute_result"
    }
   ],
   "source": [
    "dummy = np.arange(5).astype('float32')\n",
    "print(dummy)\n",
    "my_transformation.eval({my_vector:dummy, my_vector2:dummy[::-1]})"
   ]
  },
  {
   "cell_type": "code",
   "execution_count": 16,
   "metadata": {},
   "outputs": [],
   "source": [
    "writer.add_graph(my_transformation.graph)\n",
    "writer.flush()"
   ]
  },
  {
   "cell_type": "markdown",
   "metadata": {},
   "source": [
    "TensorBoard allows writing scalars, images, audio, histogram. You can read more on tensorboard usage [here](https://www.tensorflow.org/get_started/graph_viz)."
   ]
  },
  {
   "cell_type": "markdown",
   "metadata": {},
   "source": [
    "# Summary\n",
    "* Tensorflow is based on computation graphs\n",
    "* The graphs consist of placehlders and transformations"
   ]
  },
  {
   "cell_type": "markdown",
   "metadata": {},
   "source": [
    "# Mean squared error\n",
    "\n",
    "Your assignment is to implement mean squared error in tensorflow."
   ]
  },
  {
   "cell_type": "code",
   "execution_count": 17,
   "metadata": {},
   "outputs": [],
   "source": [
    "with tf.name_scope(\"MSE\"):\n",
    "    y_true = tf.placeholder(\"float32\", shape=(None,), name=\"y_true\")\n",
    "    y_predicted = tf.placeholder(\"float32\", shape=(None,), name=\"y_predicted\")\n",
    "    mse=tf.reduce_mean((y_true-y_predicted)**2)\n",
    "def compute_mse(vector1, vector2):\n",
    "    return mse.eval({y_true: vector1, y_predicted: vector2})"
   ]
  },
  {
   "cell_type": "code",
   "execution_count": 18,
   "metadata": {},
   "outputs": [],
   "source": [
    "writer.add_graph(mse.graph)\n",
    "writer.flush()"
   ]
  },
  {
   "cell_type": "markdown",
   "metadata": {},
   "source": [
    "Tests and result submission. Please use the credentials obtained from the Coursera assignment page."
   ]
  },
  {
   "cell_type": "code",
   "execution_count": 19,
   "metadata": {},
   "outputs": [],
   "source": [
    "import submit"
   ]
  },
  {
   "cell_type": "code",
   "execution_count": 21,
   "metadata": {},
   "outputs": [
    {
     "name": "stdout",
     "output_type": "stream",
     "text": [
      "Submitted to Coursera platform. See results on assignment page!\n"
     ]
    }
   ],
   "source": [
    "submit.submit_mse(compute_mse, 'hkhats95@gmail.com', 'Hu8J7OqZRlh1X1Pl')"
   ]
  },
  {
   "cell_type": "markdown",
   "metadata": {},
   "source": [
    "# Variables\n",
    "\n",
    "The inputs and transformations have no value outside function call. This isn't too comfortable if you want your model to have parameters (e.g. network weights) that are always present, but can change their value over time.\n",
    "\n",
    "Tensorflow solves this with `tf.Variable` objects.\n",
    "* You can assign variable a value at any time in your graph\n",
    "* Unlike placeholders, there's no need to explicitly pass values to variables when `s.run(...)`-ing\n",
    "* You can use variables the same way you use transformations \n",
    " "
   ]
  },
  {
   "cell_type": "code",
   "execution_count": 22,
   "metadata": {},
   "outputs": [],
   "source": [
    "# Creating a shared variable\n",
    "shared_vector_1 = tf.Variable(initial_value=np.ones(5),\n",
    "                              name=\"example_variable\")"
   ]
  },
  {
   "cell_type": "code",
   "execution_count": 23,
   "metadata": {},
   "outputs": [
    {
     "name": "stdout",
     "output_type": "stream",
     "text": [
      "Initial value [ 1.  1.  1.  1.  1.]\n"
     ]
    }
   ],
   "source": [
    "# Initialize variable(s) with initial values\n",
    "s.run(tf.global_variables_initializer())\n",
    "\n",
    "# Evaluating shared variable (outside symbolicd graph)\n",
    "print(\"Initial value\", s.run(shared_vector_1))\n",
    "\n",
    "# Within symbolic graph you use them just\n",
    "# as any other inout or transformation, not \"get value\" needed"
   ]
  },
  {
   "cell_type": "code",
   "execution_count": 24,
   "metadata": {},
   "outputs": [
    {
     "name": "stdout",
     "output_type": "stream",
     "text": [
      "New value [ 0.  1.  2.  3.  4.]\n"
     ]
    }
   ],
   "source": [
    "# Setting a new value\n",
    "s.run(shared_vector_1.assign(np.arange(5)))\n",
    "\n",
    "# Getting that new value\n",
    "print(\"New value\", s.run(shared_vector_1))"
   ]
  },
  {
   "cell_type": "markdown",
   "metadata": {},
   "source": [
    "# tf.gradients - why graphs matter\n",
    "* Tensorflow can compute derivatives and gradients automatically using the computation graph\n",
    "* True to its name it can manage matrix derivatives\n",
    "* Gradients are computed as a product of elementary derivatives via the chain rule:\n",
    "\n",
    "$$ {\\partial f(g(x)) \\over \\partial x} = {\\partial f(g(x)) \\over \\partial g(x)}\\cdot {\\partial g(x) \\over \\partial x} $$\n",
    "\n",
    "It can get you the derivative of any graph as long as it knows how to differentiate elementary operations"
   ]
  },
  {
   "cell_type": "code",
   "execution_count": 25,
   "metadata": {},
   "outputs": [],
   "source": [
    "my_scalar = tf.placeholder('float32')\n",
    "\n",
    "scalar_squared = my_scalar**2\n",
    "\n",
    "# A derivative of scalar_squared by my_scalar\n",
    "derivative = tf.gradients(scalar_squared, [my_scalar, ])"
   ]
  },
  {
   "cell_type": "code",
   "execution_count": 26,
   "metadata": {},
   "outputs": [
    {
     "data": {
      "text/plain": [
       "[<tf.Tensor 'gradients/pow_1_grad/Reshape:0' shape=<unknown> dtype=float32>]"
      ]
     },
     "execution_count": 26,
     "metadata": {},
     "output_type": "execute_result"
    }
   ],
   "source": [
    "derivative"
   ]
  },
  {
   "cell_type": "code",
   "execution_count": 28,
   "metadata": {},
   "outputs": [
    {
     "data": {
      "image/png": "[encoded data removed]",
      "text/plain": [
       "<matplotlib.figure.Figure at 0x4490f4b278>"
      ]
     },
     "metadata": {},
     "output_type": "display_data"
    }
   ],
   "source": [
    "import matplotlib.pyplot as plt\n",
    "%matplotlib inline\n",
    "\n",
    "x = np.linspace(-3, 3)\n",
    "x_squared, x_squared_der = s.run([scalar_squared, derivative[0]],\n",
    "                                 {my_scalar:x})\n",
    "\n",
    "plt.plot(x, x_squared,label=\"$x^2$\")\n",
    "plt.plot(x, x_squared_der, label=r\"$\\frac{dx^2}{dx}$\")\n",
    "plt.legend();"
   ]
  },
  {
   "cell_type": "code",
   "execution_count": 30,
   "metadata": {},
   "outputs": [
    {
     "name": "stdout",
     "output_type": "stream",
     "text": [
      "[-3.         -2.87755102 -2.75510204 -2.63265306 -2.51020408 -2.3877551\n",
      " -2.26530612 -2.14285714 -2.02040816 -1.89795918 -1.7755102  -1.65306122\n",
      " -1.53061224 -1.40816327 -1.28571429 -1.16326531 -1.04081633 -0.91836735\n",
      " -0.79591837 -0.67346939 -0.55102041 -0.42857143 -0.30612245 -0.18367347\n",
      " -0.06122449  0.06122449  0.18367347  0.30612245  0.42857143  0.55102041\n",
      "  0.67346939  0.79591837  0.91836735  1.04081633  1.16326531  1.28571429\n",
      "  1.40816327  1.53061224  1.65306122  1.7755102   1.89795918  2.02040816\n",
      "  2.14285714  2.26530612  2.3877551   2.51020408  2.63265306  2.75510204\n",
      "  2.87755102  3.        ]\n"
     ]
    }
   ],
   "source": [
    "print(x)"
   ]
  },
  {
   "cell_type": "markdown",
   "metadata": {},
   "source": [
    "# Why that rocks"
   ]
  },
  {
   "cell_type": "code",
   "execution_count": 29,
   "metadata": {},
   "outputs": [],
   "source": [
    "my_vector = tf.placeholder('float32', [None])\n",
    "# Compute the gradient of the next weird function over my_scalar and my_vector\n",
    "# Warning! Trying to understand the meaning of that function may result in permanent brain damage\n",
    "weird_psychotic_function = tf.reduce_mean(\n",
    "    (my_vector+my_scalar)**(1+tf.nn.moments(my_vector,[0])[1]) + \n",
    "    1./ tf.atan(my_scalar))/(my_scalar**2 + 1) + 0.01*tf.sin(\n",
    "    2*my_scalar**1.5)*(tf.reduce_sum(my_vector)* my_scalar**2\n",
    "                      )*tf.exp((my_scalar-4)**2)/(\n",
    "    1+tf.exp((my_scalar-4)**2))*(1.-(tf.exp(-(my_scalar-4)**2)\n",
    "                                    )/(1+tf.exp(-(my_scalar-4)**2)))**2\n",
    "\n",
    "der_by_scalar = tf.gradients(weird_psychotic_function, my_scalar)\n",
    "der_by_vector = tf.gradients(weird_psychotic_function, my_vector)"
   ]
  },
  {
   "cell_type": "code",
   "execution_count": 31,
   "metadata": {},
   "outputs": [
    {
     "data": {
      "image/png": "[encoded data removed]",
      "text/plain": [
       "<matplotlib.figure.Figure at 0x4491015da0>"
      ]
     },
     "metadata": {},
     "output_type": "display_data"
    }
   ],
   "source": [
    "# Plotting the derivative\n",
    "scalar_space = np.linspace(1, 7, 100)\n",
    "\n",
    "y = [s.run(weird_psychotic_function, {my_scalar:x, my_vector:[1, 2, 3]})\n",
    "     for x in scalar_space]\n",
    "\n",
    "plt.plot(scalar_space, y, label='function')\n",
    "\n",
    "y_der_by_scalar = [s.run(der_by_scalar,\n",
    "                         {my_scalar:x, my_vector:[1, 2, 3]})\n",
    "                   for x in scalar_space]\n",
    "\n",
    "plt.plot(scalar_space, y_der_by_scalar, label='derivative')\n",
    "plt.grid()\n",
    "plt.legend();"
   ]
  },
  {
   "cell_type": "markdown",
   "metadata": {},
   "source": [
    "# Almost done - optimizers\n",
    "\n",
    "While you can perform gradient descent by hand with automatic grads from above, tensorflow also has some optimization methods implemented for you. Recall momentum & rmsprop?"
   ]
  },
  {
   "cell_type": "code",
   "execution_count": 46,
   "metadata": {},
   "outputs": [],
   "source": [
    "y_guess = tf.Variable(np.zeros(2, dtype='float32'))\n",
    "y_true = tf.range(1, 3, dtype='float32')\n",
    "#loss = tf.reduce_mean((y_guess - y_true + tf.random_normal([2]))**2) \n",
    "loss = tf.reduce_mean((y_guess - y_true)**2) \n",
    "optimizer = tf.train.MomentumOptimizer(0.01, 0.5).minimize(\n",
    "    loss, var_list=y_guess)"
   ]
  },
  {
   "cell_type": "code",
   "execution_count": 47,
   "metadata": {},
   "outputs": [
    {
     "data": {
      "image/png": "[encoded data removed]",
      "text/plain": [
       "<matplotlib.figure.Figure at 0x44927b7860>"
      ]
     },
     "metadata": {},
     "output_type": "display_data"
    }
   ],
   "source": [
    "from matplotlib import animation, rc\n",
    "import matplotlib_utils\n",
    "from IPython.display import HTML, display_html\n",
    "\n",
    "fig, ax = plt.subplots()\n",
    "y_true_value = s.run(y_true)\n",
    "level_x = np.arange(0, 2, 0.02)\n",
    "level_y = np.arange(0, 3, 0.02)\n",
    "X, Y = np.meshgrid(level_x, level_y)\n",
    "Z = (X - y_true_value[0])**2 + (Y - y_true_value[1])**2\n",
    "ax.set_xlim(-0.02, 2)\n",
    "ax.set_ylim(-0.02, 3)\n",
    "s.run(tf.global_variables_initializer())\n",
    "ax.scatter(*s.run(y_true), c='red')\n",
    "contour = ax.contour(X, Y, Z, 10)\n",
    "ax.clabel(contour, inline=1, fontsize=10)\n",
    "line, = ax.plot([], [], lw=2)\n",
    "\n",
    "def init():\n",
    "    line.set_data([], [])\n",
    "    return (line,)\n",
    "\n",
    "guesses = [s.run(y_guess)]\n",
    "\n",
    "def animate(i):\n",
    "    s.run(optimizer)\n",
    "    guesses.append(s.run(y_guess))\n",
    "    line.set_data(*zip(*guesses))\n",
    "    return (line,)\n",
    "\n",
    "anim = animation.FuncAnimation(fig, animate, init_func=init,\n",
    "                               frames=400, interval=20, blit=True)"
   ]
  },
  {
   "cell_type": "code",
   "execution_count": 48,
   "metadata": {},
   "outputs": [
    {
     "data": {
      "text/html": [
       "<img src=\"data:image/jpeg;base64,/9j/4AAQSkZJRgABAQAAAQABAAD/2wBDAAIBAQEBAQIBAQECAgICAgQDAgICAgUEBAMEBgUGBgYFBgYGBwkIBgcJBwYGCAsICQoKCgoKBggLDAsKDAkKCgr/2wBDAQICAgICAgUDAwUKBwYHCgoKCgoKCgoKCgoKCgoKCgoKCgoKCgoKCgoKCgoKCgoKCgoKCgoKCgoKCgoKCgoKCgr/wAARCAEgAbADASIAAhEBAxEB/8QAHwAAAQUBAQEBAQEAAAAAAAAAAAECAwQFBgcICQoL/8QAtRAAAgEDAwIEAwUFBAQAAAF9AQIDAAQRBRIhMUEGE1FhByJxFDKBkaEII0KxwRVS0fAkM2JyggkKFhcYGRolJicoKSo0NTY3ODk6Q0RFRkdISUpTVFVWV1hZWmNkZWZnaGlqc3R1dnd4eXqDhIWGh4iJipKTlJWWl5iZmqKjpKWmp6ipqrKztLW2t7i5usLDxMXGx8jJytLT1NXW19jZ2uHi4%2BTl5ufo6erx8vP09fb3%2BPn6/8QAHwEAAwEBAQEBAQEBAQAAAAAAAAECAwQFBgcICQoL/8QAtREAAgECBAQDBAcFBAQAAQJ3AAECAxEEBSExBhJBUQdhcRMiMoEIFEKRobHBCSMzUvAVYnLRChYkNOEl8RcYGRomJygpKjU2Nzg5OkNERUZHSElKU1RVVldYWVpjZGVmZ2hpanN0dXZ3eHl6goOEhYaHiImKkpOUlZaXmJmaoqOkpaanqKmqsrO0tba3uLm6wsPExcbHyMnK0tPU1dbX2Nna4uPk5ebn6Onq8vP09fb3%2BPn6/9oADAMBAAIRAxEAPwD9/KKKKACiiigAooooAKKKKACiiigAooooAKKKKACiiigAooooAKKKKACiiigAooooAKKKKACiiigAooooAKKKKACiiigAooooAKKKKACiiigAooooAKKKKACiiigAooooAKKKKACiiigAooooAKKKKACiiigAorj/AAR%2B0J8A/iZ431n4Z/Dj44eD/EHiTw5JJH4h8P6J4ltbu%2B0t0kMTrcQRSNJAVkBQh1GGG088VZsPjb8GNV%2BKV78DdL%2BLvhi58babZLeaj4Pt9ftn1S1tiEImktA/nJGRJHh2UA7155FAHT0UUUAFFFFABRRRQAUUUUAFFFFABRRRQAUUUUAFFFFABRRRQAUUUUAFFFFABRRRQAUUUUAFFFFABRRRQAUUUUAFFFFABRRRQAUUUUAFFFFABRRRQAUUUUAFFFFABRRRQAUUUUAFFFFAHyM/iK78Sf8ABRXRvjLpWnfFnWdA8OeFNe0jVrLxH8LL/T9N8KS3FxpcStpco06CXVDdy2xaQ%2BZfIiIZkktolxJy/wANfAHxBg/ae8IfDi4%2BFHii313wp%2B0r428deJvGNx4Zuo9Ku/Dmo6XrcVj5epNGLe6kI1LSbU2qSNKn2BmZFWBCfuGigDxD9tfx3%2B078LPC2i%2BNvgH4%2B8B6bbXPi/w54f1Cx8X%2BA73VZHfVddsdL%2B0Ry22q2YjESXhk8so%2B8xgb0ByLP/CD/wDBQv8A6Og%2BDP8A4YfVv/moo/bw/wCSIaH/ANlm%2BHH/AKmuiV7NQB4z/wAIP/wUL/6Og%2BDP/hh9W/8AmoqtrOgft5%2BHNIuvEHiH9rb4IWFhZW7z3t7e/A7VIobeJAWaR3bxSFRQASSSAAM123w5%2BOul/EH4heJfhnc%2BC9c0DU/DpjkSLXYoY/7Ts3kmiW8txHK5aEywSplgrcKSoDqT4T4x8MfGTw9pPif4efG3Rr/WNM%2BIniiXw1aeMpfGbz3CpePIbCSHSo4VhtYIWZIXMbCUhGnYFVJHXSwjnPlm7PTTq0%2B2tnZXf9O2M6qUbpX3/r7zO8SfHb9uzU4PC8fwA/aT%2BAnju58VXl7FZLF8J9Us4QLSHzp180%2BJJP320qFhKgtu3Eqis47j4Ual%2B3d8XvAOn/EDw9%2B018IIYL0SJLa3fwE1ZZrWeKRoZ4JB/wAJTw8csckbDplDWP4Z%2BDXxc%2BMfxKufGPivwXqfw%2B1jS7DS7p9eZrWaG48R2ryo9xbxRSnzraS0llicsIy0dyyfeXKe5/BX4YXHwo8GSaDqfiMavqV7qt5qer6mliLZLi6uZ3mkKQhm8tAW2qu5iAoyzHJOmKp4WlTUYP3vW%2B9%2Bq02ta1n5a6TSlVlK72/r5ng3gcf8FkfEXxR1jRfF3ij4CeHvB9hcTw6Z4gn%2BHWqXN9qm1sRzJZxeICkUbgFv3k4cZGUznHoH/CD/APBQv/o6D4M/%2BGH1b/5qK9morjnJTd1FL0v%2BrZtFNLV3PGf%2BEH/4KF/9HQfBn/ww%2Brf/ADUUf8IP/wAFC/8Ao6D4M/8Ahh9W/wDmor2asP4hfE/4bfCTw7J4v%2BKnxA0Tw1pUP%2Bt1LXtUhs4F4zgySsq5/GpjGUnaKuytzzX/AIQf/goX/wBHQfBn/wAMPq3/AM1FH/CD/wDBQv8A6Og%2BDP8A4YfVv/morkJ/%2BCofwY8Z3D6Z%2By38LviJ8ZbpXMf2nwD4Tl/sxJM4AfUrwwWgX/aWR%2B/BxTR4r/4Kr/Fznw98KPhV8HtPl%2BVpfFeuXHibVYx/fEFkILVW9jO4z69a7P7PxEf4tof4mk/u1l/5KXyS66HY/wDCD/8ABQv/AKOg%2BDP/AIYfVv8A5qKyvFx/bV8AaWdb8efto/ATRLJfvXmr/BfUraIf8Dk8VAfrWJ/wwd8a/iB%2B%2B/aK/wCCiXxX13PD6b4Ge08J2LL3UrYxm4I%2BtwTg8k1reEf%2BCWf7AfhPVBr9x%2BzTofiLU%2Br6p44ln1%2B4duu4vqMkxznnjGO2KPZYGHx1XL/DH9ZNfkFoLqeMeKv%2BCjD%2BE9SOin/gqN%2BztrV8MgWXg/4Ea5rsxPoE07xLOSe2MVm/8N3ft66//wAkp8I614tR/wDj3vLT9jvWtNtpfQiXU/FtsNvvz9K%2B5vCvgrwb4E00aL4I8JaZo1mv3bTSrCO3iH/AY1A/StOj2uAj8NKT9ZW/CMf1C8Ox8Dx/Gr/g4I8QOG8I/szfCOzgc/JN4x0X7CcepS08TXjL9CM133wstf8Agu3r/iO0/wCFveKf2U/DeiPu%2B2S6P4T8R6nfRfI23bE2pQRN8%2B0HMowCTyQAfrqioniKUo2jSiv/AAJv8ZfoJyXY8Z/4Qf8A4KF/9HQfBn/ww%2Brf/NRR/wAIP/wUL/6Og%2BDP/hh9W/8Amor2aiuUk8Z/4Qf/AIKF/wDR0HwZ/wDDD6t/81FH/CD/APBQv/o6D4M/%2BGH1b/5qK9mooA8Z/wCEH/4KF/8AR0HwZ/8ADD6t/wDNRR/wg/8AwUL/AOjoPgz/AOGH1b/5qK9mooA8Z/4Qf/goX/0dB8Gf/DD6t/8ANRR/wg//AAUL7ftQfBn/AMMPq3/zUV7NRQB8SeJNT/4OIvD%2B6XStI/ZH19B9xNPsPEVvIw9xPeqoP/AjWCP2if8Agut4YPnfEr9l7waLdf8AWT%2BCfAkOsH/gMcnjC2kb/vkV980V2RxNG1pUYv8A8CX5Sf5Fcy7Hyv8As/fEr/goT8ftM1K/fxp4b8ETaZPHFNY/EH9mLV9OlmLKTuhI8WOkyjGCyMQCQO9aXxL8Rf8ABQb4e%2BLfBHgu3/aC%2BDOoXvjbxI%2Bl26/8KU1WEWsUVjc3k1yf%2BKmbeFS227Ply0ijcK%2Blq828f/sz6B47%2BMug/HVPiP4w0nW/DtvPDYW2n6ysmnlZomikLWdxHLCGKnl0VX%2BUfN1zFOWHddyatGzstZa2duz31v0BctzwX9oP44f8FDvglqV5pmh/Ff4R%2BJH0DwzJ4l8YSQ/BnUrZNJ0eNpA0%2BX8TkzSnyZikKgFhC3zDjPBfH3/goN%2B1l8Mvida/s5/Cf46fC7x78UNUuILbSvCmnfATV7eHz5Ilm2z3T%2BJykOyE724OMEHG1ytj9tPVPih8Tfjxqn7MP7HPjGx8R%2BMPF/hew0f4o3N3pJa38P2ltM7/AGma6jkEULyrK8b23lOSp%2BUK7APF8Kf%2BCdHxz%2BC1p4hGm6HZap4psbnXPEQ%2BJtzqqm98VapJbuumWyR/M9nGhkkEoY43BSu/cdn0GHy7LcNh4VsZ8TV4wu05X2lLqoX2StKS1Wl5HlzxTx05UMHK3LpKfSL6qN1aU121jH7TvaJ7J8FvFP7cnxX0KWOz/bZ/Zt1PXtKZYfE2m%2BE/hNqeoR6XdEHMDuPFAbIwcF0QsBkKBXZ/8IP/AMFC/wDo6D4M/wDhh9W/%2Baiua/Y58GXh8YQeLPD/AIG13w34W8N/DXR/B2lWviLRJtNur%2BS2BleQ286rIscRkMaswAZpJipZSGPcfEv9tr9lT4MfFW3%2BC3xg%2BNmj%2BFfEF3Zx3NnF4jZ7K2uEcsFCXcyrbs%2BVOUEm8ZGQNwz4dfDSliZQoxb62Svbvor7ad7X12Z6ag42iru33/MzP%2BEH/wCChf8A0dB8Gf8Aww%2Brf/NRR/wg/wDwUL/6Og%2BDP/hh9W/%2BaivX9L1XTNc06HV9F1KC8tLmMSW91azLJHKh6MrKSGB9RU9cWwjxn/hB/wDgoX/0dB8Gf/DD6t/81Fef%2BAx/wWQ1H4par4P%2BJfij4CaT4cgt5ZtG8X6P8OtUvo7zEqqkMttJ4ghlglKMXOA8Y2MN5%2BXP1NRVxmoppxTv66ea1/O5LTbWp8z/AB48Rf8ABQ/4K/Di48a2Hx3%2BC%2Bu6i91b2OjaEfg1q9o2o31xKsNvAsg8Ry7S0jqCdhwu5jwpq/8AETxH%2B2B8INHtNe%2BLH7bXwE8O2d7ex2cF3q3wU1SGFrh87U3v4pAGcHk4HHavQPit8AtV%2BIPxO8L/ABW0v4m6laS%2BFbs3Vt4ZvoI7nR7ub7PcQrNJFtWVJlFyxWRJABtUlGIGOF/aah%2BJPiDxN4aXwv8ACvxY3i7QbyCTw5rGlPBNoFybny7e/jvBIWKRJBJPkyxI5UZhYudo66NKhVUIX7tvZrstdLK2%2Bu700MpzqQ5nbtb%2BkbNp4S/4KAX9rFf2H7VXwVngnjWSGaH4FaqySIRkMpHinBBByCKk/wCEH/4KF/8AR0HwZ/8ADD6t/wDNRXmmqfGbXPDuv6X8W4fiXdaF4bt/F2o2Wn%2BD7G1hj0%2BHwzpYniv7qaEJv3l4HdXyNoSMJwxDeyfBX48eL/iL4qn8HfED4Wf8Irfv4bste060bWBdTGzuWkQR3CeUn2e4R4yrRgyLyMOSGCzVwVWlDn3X5f52ur20HCtGTscXqXjH9s34S/Gn4VeGvij8W/hh4l8P%2BPPGt3oOp2mgfC7UdIvLcR%2BH9X1OOaK4m1y7QHzdOjRlaE5WRsFSAa%2Bga8Z/ag/5Lf8As4/9lmvv/UK8UV7NXGbBRRRQAUUUUAFFFFABRRRQAUUUUAeM/t4f8kQ0P/ss3w4/9TXRK6fwD%2B0p8OPih8W/EXwg8BwaxqNz4UDR69rUejyrpdteK6q1iLpgEkuV3bmRN20A5IIxXMft4f8AJEND/wCyzfDj/wBTXRK9lREjBEaBQSSQBjk8k1cXTUXzK76a2t/n6aEtSbVmeXfF34PfFDxf8avB3xM%2BGPjHSPDn9h2d7aa7qN1YPeXN/ZTmJjZpDuSNRviWQTOzbHQYjYM2ertPg78Pk8T2Hj3WfD1tq/iPTLVrey8RarbRy3kKMzFgj7QI87iDsC5GAeAK6eirdeq4qN7WVtNNPN7vf/gCVOKbfcKraxrOkeHtKude1/VbaxsbOBpry9vJ1iigjUZZ3diAqgAkknAAqn43HjVvCOor8OJdLTXTasNKfWopHtFmx8plWNldkHcKyk9MjrXiR1vxV%2B09%2ByR43%2BF/xFvtJ0rxvo73fh7xRiMwWA1KAo8MoWRmZLa5ja2mUFmIjudu4suadKj7Rczel0n3V%2Btu36miVzoPiJ%2B13o9na%2BHH/Z/8OWnxMl8S2mo3tidB8RQJbyW1lDHLMsc4DpJcN50Sxw5XfuZiyqjGvG5v2mfG9/4p8afHjw58W9Uks/Dl3pWoaf4Gu1t47C/8LXHkRSuiGISpepdR30bSF2Cukak7HVRoeEPg38SvjD8cdf8AiDpPg3Xfhnf2sOn6nLf6tpkb2/8Awk8Ttb3LQosgW8tbmyigSVlKAhYyr7y4T134f/sf/CrR/Buh6P8AFfwr4f8AGms6Jq97qttrGo%2BHYwlvd3V5LdyfZopGlNvCssv7uLe/lhI8MSikelfA4SNmrvS%2BzeuvnHsrpp9TT3Inofjnw3d%2BNPBWq%2BE9P8V6noM%2Bp6dNbQ63ozol3YM6FRPCZEdBIhO5dysMgZB6V4x8Pf8Agmd%2ByJ4M8RR%2BPfGHgO6%2BInitOW8W/FLVZfEF%2BW7Mpuy0cJHbyY4wOwr32ivNp4nEUYONOTSe9tL/ADWvyvbyM1KSWgy3t4LSBLW1gSOKNAsccahVVQMAADoBT6KKwEFFFc/8SPiv8Lfg34bk8ZfF34k6B4V0iLPm6p4j1iCxt04zzJMyqPzpqMpOyV2NJydktToKK%2BVbz/gsN%2Byj4lvJdI/Zo8N/Eb4330LlJYvhD4AvNTtUYcfNfyrDYgZ4z5%2BB37UwftEf8FW/iv8Au/hN/wAE/PB3w9tZPmg1f4x/FJJZdnYtY6NDclWxztadT2OOtdX1HEr40o/4mo/g3f8AA6fqWIXxpR/xNL8G7/gfVtFfKY/Z0/4KwfEX/S/iR/wUZ8HeBkk4l0v4VfByGTYO4W61i5ujn38ketL/AMOsh4k/efF//goR%2B0x4saTm5th8UTo1rJ6jydIgtcL/ALJJ%2BtH1fDx%2BKsvkpP8ASKD2FCPxVV8lJ/okfVTukal3YKoGSScACuR8S/tBfAXwYzJ4w%2BN3hDSSn3xqXiW1gK/XfIMV4Kn/AARR/wCCal2wm8Xfs%2BXXimbOZJ/GfjjWtZaRvUi8vJF/IAV13hr/AIJX/wDBNPwkqjRP2BvhAGT7st18PdPuJB/wOWJm/WjlwC%2B1J/8AbsV%2BcmHLgl9qT%2BSX5yZtar/wUO/YB0Jimt/ty/B6zK/eF18TNKjI/wC%2BrgVjzf8ABUv/AIJoQNtf/goJ8Fyf9j4m6W38p67DSv2Nf2QdCULon7Knw2swv3Ra%2BBtPjx/3zCK2If2d/wBn%2B3XZB8DPByD0TwzaD%2BUdF8v7T/8AJP8AIP8AYe0//Jf8jzq2/wCCon/BNS7YJD/wUE%2BCuT0D/FDSl/8AQrgVvaN%2B3p%2Bwz4iYJ4f/AGz/AIT3xb7os/iLpkuf%2B%2BZzXSXX7N/7O96uy9%2BAnguYHqJfC1ow/WOsHWP2HP2KfEKlNf8A2PvhbfBvvC8%2BH%2Bmy5/76hNH/AAn/AN//AMkD/Yf7/wD5Kdn4X%2BK3wu8blV8F/EnQNXLfdGl6xBcZ%2Bnlsa36%2BdPFH/BIn/gl74vDDVv2B/hVFu6nS/BtrYn8DbIhFYB/4Iv8A7BGknz/hr4P8beBrkf6u68DfFnxDphj/AN1Ir7yx/wB8UcmAe05L1in%2BUg5cE9pyXrFP8pH1VRXyp/w7X%2BLPg7/Svgj/AMFR/wBojQrhf9VD4n1/TvE9qvplNTspZG/GWquteB/%2BCu3wP0i68Qad%2B2N8DviFpVjA895N8Tfh7d%2BHJIYkG5ma7027kiQAAkubfAH8IprC0pu1Oqm/NSX6NA6FC11Vj87x/NNfifWpIAyTgDqTXyj8U/2lviv%2B1v471D9mj9hTWVs9OsJvs3j74whN9ppAP37WwIIFxdkfxKcJnIIz5ifOXjz9s/8Aby/bO%2BF1jDL%2ByT4utvheNXnsPHmv/AnUYtXvNegjJBWwGo/YJvsz4KuY4pW6qSeY2%2Bgv2df%2BCkn/AATJ%2BHOi6T%2Bz1pPjRfg1dWMQhtPBnxT8O3nha6Rs85bUo40nkZjkssjlmPJJNe1HLpZRD2lSCqV%2BkVaUYec0r3l1ULWW8/5D532WPz26wt1hldOcfiqW3VO2qh3qWXNtT0vM96/Zw/Zo%2BFP7LPw9j%2BHvwr0ZokeTz9U1S7fzLzVLk/euLiXGZHJz6BRwoA4rv6raRrGkeINMg1vQdVtr6yuYxJbXdnOssUqHoyupIYe4NWa%2Ber1q2IrSqVZOUm7tvds9OjQo4WlGlSioxjoktEv6/wCH1Cs3xZ4N8IePtCn8LeOvCum61plyuLnTtWsY7mCUejRyAq34itKis03F3RqfNep/8Evfgb4V1K48UfsqeNPGHwS1meQzSSfDjXGh02eTqPO0u4EtlIgP8IiX6iq7eNP%2BCl/7OP8AyPvw68M/Hvw3B9/WPBDLoHiRIxyzvp9y7Wly2OiwzRE9l7H6cortWPrT0rJVF/e1f/gStL8WXzt76njfwJ/b1/Zo%2BP8A4jf4eaB4yn0DxpAP9N%2BH/jXT5NI1y3bGSPslyFaUDu8XmJ/tV7JXCfHj9mL4AftO%2BHE8LfHn4UaR4ktoTus5b63xc2T/APPS3uEKy27/AO3G6t714s/wQ/bj/ZJ/0/8AZk%2BKj/F/wdBy3w1%2BKOqbNXt4x/Bp%2Bt7csegWO8V1AGPNHWj2WExH8KXJLtLb5T/%2BSS9QtGW2h9SUV45%2Bzx%2B3D8Gf2gfENz8MimqeDviDpsW/WPhv41svsGsWqjrIkbErdQ8ZE0DSRkEHIzivY65atGrQnyVFZ/196802vMlpp2Z5t4%2B/ZS%2BDXjDw14v0vRPBWk6BqfjO326vrul6TCtxNKHEiyyZXE37xVZlbIkxhs5rS%2BEfwfvPh/qes%2BNPF/jB/EXinxE0A1jWTZC2jMMAcQW8MAZhFCnmSsFLMS0rksSa7eiqeIrOm4OV0/8Agdd7aLTbRdjP2cFK6R4x%2B06xf42/s5EoV/4vPfjB9vBXijmvZ68Z/ag/5Lf%2Bzj/2Wa%2B/9QrxRXs1YlhRRRQAUUUUAFFFFABRRRQB4P4U%2BM37QWh/tn2/7OnxC8QeCPEml6z4R1XxEsXhXw5eWN74VtoL22gsVvpZr24juhdCa4VHWO1JexmKJIqyGLC%2BFn7U/wAXdd/bS8VfA34seJtE8M6Lb%2BJ7nTfAGgX/AMJ9btLnxPbRaXb3ZuLXXp7safdyK7XZa3ggaQR2rkgBGcdF8Jv2Jbz4OfELxv8AEbw5%2B1l8Tbu68fa5PqutwatbeHZws7sgiWOb%2ByBceVbwotvDE8rpHFwFLfPW/ffstQeIvjlovxr8e/G/xr4ih8La1c6v4R8HakdMj0nRb6azuLJp4vs1lFdTFba7uo0FzcTKonYgblRlAOM/4KF/Fz4UeGvB/gz4UeI/id4e0/xT4g%2BMPw9l0Hw1e61BFqGpJH4z0ZpGt7dnEkwVVYsUUgBSTjBr6Hrxn9vD/kiGh/8AZZvhx/6muiV7NQAVxPx9/aH%2BEP7Mfw9m%2BJnxn8Xw6VpqSrBax7Glub%2B5fiO2toUBe4mc8LGgLHk9ASMf9qf9qTwZ%2By14Htdc1fSL3XvEWu3y6b4L8F6MA%2BoeIdRcfJbQL2A%2B88rfJGgLN2B4T9nb9kXxnqfxBg/a1/bT1Wy8S/FF4mGg6RbEvo/gW2fraacjcNORgS3jfvJCMKVThuyjh4Kn7au7Q6JbyfZdkusnotld6KlFWu9j0T9mn4ofGL4w%2BCbrx78W/gbN8Po73UWbw1oWp6ms%2BpHTtieXLfRouy1nZt5MAdyilVYhgRSaN%2By18KNM%2BNOu/H7UrfUNW8Sa8IElk1XUGktbWKFVWKOG1XbApXbkSsjTckGQjivRqKxdaSnJ0/dUtLK%2B3bXXp8/wFfXQKKKKxEFFFeB/tQf8FAfh78BfGlt8Bfhr4M1b4o/F/VbYTaR8L/BpRrtIjgC6v53Pk6ZaZK5nnIyD8iuQRWlKlUrT5YK7/rV9EvN2RpTpVK0uWCu/637LzZ71LLFBE000ioiKWd2OAoHUk9hXzD4//wCCqnwUuPF978Jf2RvA3iX4/eNrKTybvSfhhbJPpumzHot9q8rJY2gzkEGVnUjlKwLT9gr4/wD7YEi%2BKf8Agp18Zvt2iTMJLb4EfDa/nsPDNsvVY9RulKXWsyDClg7R2%2B4HERU19S/D34cfD74S%2BELL4f8Awt8D6R4c0LTovLsNH0PTo7S1t19EiiVVX8BXTy4Sh8T55dlpH7938kl5m/LhaHxPnfZaR%2B/d/JJeZ8yr8If%2BCqf7Tf8ApHxn/aH8M/ALw1cfe8KfCKyXWdfaJusc2s6hH5EMg/vW1qfZ66L4bf8ABJf9hrwL4kj%2BIPjH4UzfEvxcvMnjL4u6vP4n1F3znerX7SRwn08lIwOwr6SoqZY3EW5YPkXaOn3tav5yE8ZXtaD5V2jp%2BK1fzZFZWVlptnFp%2BnWkVvbwoEhggjCJGoGAqqOAAOwqWiiuQ5QooooAKKKKACiiigAooooAKKK4L9oz9pT4U/st/DyX4jfFbXDBCX8nTdOtk8y71O5P3Le3izmSRj%2BAHLEAE1pRo1cRVjSpRcpPRJatsyr16OGoyq1ZKMYq7b0SRvfE/wCKPgD4M%2BBtQ%2BJXxQ8U2mjaJpcJlvb%2B8fCqOgUAcu7HAVFBZiQACTivlnR/Bfxa/wCCnmsW3jX4v6Zqng34D21wtxoHguR2g1DxjtIZLq%2BKnMVqcBkiB%2Bbggn5ZK1fhh%2Bzb8WP2wvHOn/tJft0aILDRtPnFz4B%2BDjPvttMH8F3qIIAuLoj%2BBhhMkEDJjX6vVVVQqgAAYAHavZdWjky5aDUq/Wa1jT8odHPvPaO0NffPEVKvnj5q6cMP0g9JVPOa3UO1PeW87L3CtoehaL4Y0a18O%2BG9JtrDT7G3SCysrOBY4oIlGFREUAKoAAAHAql44%2BH3gL4neHZvCHxK8EaR4h0m4GLjS9c02K7t5f8AejlVlb8RWvRXic0ubmvr36n0Efcty6W7aHytrP8AwSG/Zp8M6nP4q/ZK8W%2BOPgHrk0hle4%2BEniaSy0%2BeTqPO0qYS2EqZ6r5C5HccEU38Sf8ABWn9lsbvFfhLwb%2B0t4Wg/wBZqHhgJ4V8WRx9S7Wkzvp94wH8MctuzHovIFfWtFdSxtaWlW01/e1f/gWkvxZ1LGVZaVbTX97V/fpL8WeE/s6/8FHP2W/2j/Fr/CrSfFOoeEfiDbpm%2B%2BGXxE0qTRPEFvwScWlxg3C4GfMgaWPH8Ve7V51%2B0d%2ByV%2Bzh%2B1v4TTwX%2B0V8INH8UWkD%2BZYT3sBS70%2BXIIltbmMrNayAgfPE6N714DN8Of8AgoJ%2BwKP7T%2BCvizVP2jPhZajNx4D8YahGnjTRoByf7P1N9seqqoyRb3e2YhVVZmJp%2Byw1f%2BE%2BWXaT0%2BUtPukl6j9nh6/8N8r7Senyl/8AJJep9h0V5l%2By5%2B1/8B/2wvBlx4v%2BCni17ibTLn7J4j8PapaPZ6toN4M7rS%2Bs5QJbaVSGGGGG2kqWXmvTa5Z050puM1ZrozmnCdOTjJWaCiiioJPOf2jP2Ufgd%2B1P4ettE%2BLvhAT3emy%2BfoPiHTrhrTVdFuBgrPZ3cREsDggH5TtO0Bgw4rxUfG39pL9gGdNI/a3v7z4j/CVHEdn8ZNO0/wD4mvh%2BPOFXXLSEYliA4%2B3QLjjMsalt1fWFMuLe3u7d7W6gSWKVCkkcihldSMEEHggjtXXRxbhD2VVc0Oz6ecXvF/g%2Bqe5SlZWexV8N%2BJfDvjHQLLxX4S12z1TS9RtkuNP1HT7lZoLmFxlZI3QlXUggggkGrtfJHjH4SfET/gnJr178av2V/Dd9r/wgu7l7zx98HLBfMl0MMd02qaEh%2B7jl5bEYRxuMe1sAfTXwx%2BJvgH4zeANJ%2BKfwu8U2mt%2BH9cskutK1Syk3RzxN3HcEHIKkBlYFSAQRSxGHVOKqU3zQez6p9pLo/wAGtU7bEo21Wx5t%2B1B/yW/9nH/ss19/6hXiivZq8Z/ag/5Lf%2Bzj/wBlmvv/AFCvFFezVykhRRRQAUUUUAFFFFABRRRQAUUUUAeM/t4f8kQ0P/ss3w4/9TXRK9C%2BMPxb8B/Af4Xa98Y/ifriadoHhzTZb7VLtxkrGgztUdWdjhVUcszKo5Irz39vD/kiGh/9lm%2BHH/qa6JXB/tD2w/au/bZ8Hfslyfv/AAZ8ObG38ffEqAcxX155zR6Lp0vYr5sU948bAhhbRZ6104WjGtV9/SKTcvRb283ol5vyKirvUvfscfBbx58RfGlx%2B3p%2B1HoL23jrxNZGHwV4Vu/mXwN4fc7orNFPAvJl2yXMuAxZhENqoQfpSiipxFeWIqcz0WyS2SWyXkvx1b1bFJuTCiiisBBRRXzj/wAFCv2gPih4Q0zwn%2Byr%2BzHqMVt8W/jHqM2l%2BGNSki8xPDenQoH1LXZU6MtrCw2KT888sK4bJFa0aUq9RQj1%2B5Ldt%2BSWppSpSrVFBf8ADLq35JanO/tAftQfG39or4yar%2BxH/wAE/tXtrDVtEZYfix8Y7m1FzYeB1cZ%2BxWsZ%2BS81dkORET5cAIaXk7R69%2Byn%2Bx38EP2OvBVx4U%2BEuiXMt/q1z9s8U%2BLdcujeaz4jvjkvd392/wA9xKxLHnCruIRVXitL9l/9mj4W/sjfBXR/gZ8I9Mli0zS0Z7m9vJfNu9UvJDvuL66lPM1xNIWd3PUnAwAAPQK2rV48vsqOkPxk%2B7/RbLzd2bVq8eX2VLSH4y83%2Bi2Xm7sKKKK5DlCiiigAooooAKKKKACiiigAooooAKKK8D/am/bLu/hv4ptv2d/2d/CqeNvi5rUOdP8AD8L/AOjaREQP9N1CQECGJQQ20kM%2BRyoYNXThMJXxtb2VJXe76JJbtt6JLq3%2Bdk%2BXGYzD4Gg6tZ2Wy6tt7KKWrb6Ja/K7W/8AtWftf%2BB/2YtJsdJGk3XiXxt4hfyPCHgXRvnvtVnPAOACY4QfvSkYABwGPFcX%2Bzn%2ByB441r4hxftZftqara%2BIviRImdC0OD59K8HQHkQWiEkNMON03JyPlJOZH3/2U/2M7T4KatffGj4veKm8bfFfxEmfEPjG9TiBT/y6WSEYgt1%2B6AoBYAZCgKi%2B5V6NbF0MDSlh8E7t6TqbOXeMOsYd9pT62jaJ5tHB4jMK0cTjlZJ3hT3Ue0p9JT7LWMPs3leQUUUV4p7gUUUUAFFFFABRRRQB88ftYfsF6d8X/GUH7Sv7O/jZ/hl8cNFtvL0fx9pduGi1WFcEadq9sMLqFk20Da/7yLAaNlIwbf7Gn7aF/wDHfVdc%2BAnx58DJ4D%2BNXgeKM%2BM/BLXJkgubdjti1bTJWwbrT5iPlcfNEx8uQBgC3vlfPP7fX7KPi34y6Bo/x9/ZzvbfRvjd8MJJNS%2BHWtyfLHfgj/SNFvDkeZZXiAxOCRscpIpBQ57aVWNeKo1n/hl/L5P%2B73X2d11T7KVWNaKpVX6S/l8n/d8um66p/Q1FebfsiftMeEf2vv2ePDfx%2B8H6fcaemtWrLqei3oxc6RqELtDd2M4IBEsE8ckTZAzsyOCK9JrknCdObhJWa0ZyzhKnNxkrNaBRRRUkhXyP4rsP%2BHa3x9X4m%2BHl%2Bz/Aj4na/HB4y0teLfwT4huXCRapEOkVldSFY514WOVkkBAZlr64rB%2BKHw08GfGT4c658KPiLoseo6F4i0ubT9VspRxLBKhRgD/C2DkMOQQCOQK6sLXVGbjNXhLSS8u681un302bKi7PXY83/ag/5Ld%2Bzj/2Wa%2B/9QrxRXs1fL8/w08ffBu1/ZL%2BFPxM%2BIw8W6v4e%2BKl7YSeIjaGF72GLwZ4qWBpFLMTKIRGrvn53VmwN2B9QVhUjGE3GLuk9%2B/n8xPRhRRRUCCiiigAooooAKKKKAOQ8C/tB/AP4oeMtZ%2BHXw0%2BN/hDxF4h8OuyeINC0LxLa3d5pjK5jZbiCKRnhIcFSHAwwI61Ytfjb8Gb74p3PwLsvi54Ym8b2dgL288HRa/btqsFqQpE72gfzljIdPnK7fmXnkV81/DX4r6Z8WP239W%2BKfiz4SfEXwlpPws0nWvC/gXTbj4NeIYf7a%2B1XlmdR1ZroWH2d4JJbSBLWCKRmeNZrlwd8Yh5nwd8P/iDF%2B1J4e%2BG8vwo8UQ69oP7TviTx7rXjOXw1dJpU3h280LU7e2kTUzH9mnkK3thp/2VZDMn2ZmMYjhV6APe/wBvD/kiGh/9lm%2BHH/qa6JXIf8E7ov8AhNvEPxz/AGir8ebd%2BMvjTqthaXX97TNHCaVaoP8AZBtp3HvKavf8FC9N%2BK8/g/wZqPhzxp4etfC0Pxh%2BHo17Rr3wxPcaheOfGejeW1veLexx2wVtpYPbTFgCAUyCK/8AwSxmji/Zf1Hw69skN5ovxS8ZWGpRIWO24TxBfM2dxJ3EOrHnvwAMCu2jpgazXVwXyvJ/mkWvgfyPo%2BiiiuIgKKKKACvkv9kWzb46/wDBRL9of9qbWWFxbeCL7T/hT4I3jmzhtLaHUdWK/wDXW9vYlLdSLRRnjA%2BtK%2BVP%2BCW7LYah%2B0l4Uu/lv9O/al8VS3cbcNsuks7yByPQwzx4P%2Bz7V2Yf3cNWkt7RXyctfySOqh7uHqyW9kvk5a/kkfVdFFFcZyhRRRQAUUUUAFFFFABRRRQAUUUUAFFNmmhtoXuLiZY441LSSOwCqoGSST0Fflt/wVt%2BLXxq/bw8KDwl%2BxT8NfGPjfwF4H1SSPxbqHhm1eaz13UX2CGOGOPMl3Hb7ZCxQMpMysRtCO2saFadCpWVlCmryk78sV3dk23vaMU5yekVu12ZXQw%2BYZzhsulO068uSCXLzSlZ2S5504RTdlKpUqQpU03OcrJRn9YfHv8Aa1%2BI3xM%2BI93%2ByX%2BwvDa6n4wg/d%2BL/HNwnmaV4OiJIYu2Cs11wQsQzhgcglWVfSP2Wf2Svhz%2Byv4WubHw5Nc6x4i1mb7T4r8Y6w/mahrV0SS0kshJIXJO2MHC5J5YszeKf8ESfgd8dvgR%2BxaND/aD8JHQ9Z1bxTd6nY6XcWiw3dvZSRQLGtwoAYSb0lYB8uqMinGNo%2Bvq6P7XpYrARp4OEqdKSTfMrTm%2Bjn27xgnaN1e8rtcua8L1sg4ixGHx1eniK1GTgp0Zc9GNkrqlLTmV24yqWvNxfLaHKmUUUVxEhRRRQAUUUUAFFFFABRRRQAUUUUAfJv7MFqvwA/4KZfHX9mvTx5WgfEDQtK%2BK3h6yj/1dteXEkum6xj3kuLW1nI/vXDH%2BKvrKvlSdl1T/AILe2n2E7v7E/ZXuV1Mr/Cb3xJbm3De5FjckD619V12YzWcJPdwi362a/JI6sXrKEnu4xb%2B5r8kgooorjOUKKKKAPGf2oP8Akt/7OP8A2Wa%2B/wDUK8UV7NXjP7UH/Jb/ANnH/ss19/6hXiivZqACiiigAooooAKKKKACiiigAooooA8Z/bw/5Ihof/ZZvhx/6muiVxn7J0w%2BDf7Z/wAdv2ZNR/dQ6/rFt8S/CYfrc2uoxJbaht9o7%2B1Ykf8AT0p/irs/28P%2BSIaH/wBlm%2BHH/qa6JXL/ALfvgTxp4SPhT9t74N6DPqXiv4Q3M9xqui2a/vdf8NXCqup2Cj%2BOUIiXMIOcS24ABL124JqcpUJO3OrL/EneP46f9vFw107n0dRWJ8NviN4L%2BL3gDR/ij8OfEEGq6Fr%2BnRX2lahbNlJ4JFDK3qDg4IPIIIIBBFbdccoyjJxas0RsFFFFIAr5Fvr8fsf/APBVOXV9ab7P4I/af0W0tIb6TiKz8a6RA0ccDHhUN7poUJnl5NP2jJYV9dV5t%2B1n%2BzD4C/a/%2BBmr/BDx9c3Vkl4YrrRtd02Ty73Q9SgcS2moWsg5jnhlVXUg84KnKswPThqsKc3GfwyVn/n8mk/vXU6MPUhCbjP4ZKz/AM/k0n9/c9Jor5p/Ym/a58d6/wCKb79i/wDbFgtdG%2BOXg2yEl00SeVZeNtLU7I9e0zOA8cmB50K/Nby7kZVG2vpas61GdCpyy/4DXRrun/Wt0s6tKdGfLL/gNdGvJ/11QUUUVkZhRRRQAUUUUAFFFFABWf4r8V%2BGfAvhu98Y%2BMtetNL0rTbZri/1C%2BnEcMESjJZmbgCsX40fGv4Zfs%2BfDy/%2BKXxc8V2%2BkaNp6ZluJzlpHOdsUaD5pJGxgIoJP4Gvmrwp8Ivi3/wUZ8SWXxd/ai0G%2B8L/AAjsrhbrwb8Kp3KXGtkHMd9quD908FIOmD6ZaX0sFgFWpvEV5clGLs5dW/5YL7UvwitZNLR%2BXjsxdCosPh489aSuo9Ev5pv7Mfxk9Ipu7Va41L4sf8FS9Uk03w/Pq3gv9nq3uCl3qQDW2qePNrYaOLOGgsSRgt1cZHJJWL6x8B%2BAvBnwv8Iaf4A%2BHvhq00jRtLtxBYadYxBI4UHoO5JySTkkkkkkk1pWFhY6XYw6ZpllFbW1vEsVvbwRhEiRRhVVRwoAAAA4AFS0sbj3iYqjSjyUo/DFf%2BlSf2pPrJ%2BkUo6FYHLlhZSrVZc9aXxSf/pMV9mC6RXrJyk7hRRRXnHpBRRRQAUUUUAFFFFABRRRQAUUUUAFQarqmmaHplzretahBaWdnA893d3MoSOGJFLM7seFUAEkngAVPXxX8fvG%2Bsf8FPvitqf7D3wH1i5j%2BD3hvUhb/tAfETTpikWqMhDN4U0%2BZf8AWSScC8lQ4hiJi3b5Ctb4eg60tXaK1b7L/N7JdX87b0KLrS1dorVvsv8APol1fzt0P/BMqHUvjt4n%2BKn/AAUa12xmgt/jJr9va/D2C6iKPH4Q0pJLbTptrDdGbqR7u8K91uIz0xX1nVXQtC0Xwvoln4a8OaVb2GnadaR2thY2kIjit4Y1CJGirwqqoAAHAAAq1SxFX29ZzSstkuyWiX3L77ir1fbVXJKy6Lslol9y/MKKKKxMQooryL9tP9pO5/Zr%2BDrap4P0ddZ8c%2BJb6PQvhz4aU5fVdauMrAhHaKPmaViQFiickjitKNKdeqqcFq/6%2B7q30SbGk27IrftQf8lv/Zx/7LNff%2BoV4or2avl6f4UeJPgfa/sl/C/xn8QdS8V63pfxUvRrfiLVrySea/vZPBniqWeQNISyx%2Ba7hE6JGEQYCivqGlUjGM2ou6T37%2BfzB6MKKKKgQUUUUAFFFFABRRRQAUV4v%2Bxz8Xfjh8Srr4peDvj9e%2BFLvWfh/wDExvD1tfeD9FubC1uLVtG0rUkLRXN1cuZFbUHjLhwriNWCJkiuS/Yo/an%2BLvxn%2BIXiPwR8e/E2iaPrtrc6xLpPw/Pwn1vw/qCaba6tJaQ38d9qN3JDq8DQ/ZWeW0hWNXuo8su9VIB1/wC3h/yRDQ/%2ByzfDj/1NdEr2avnj/goX8XPhR4a8H%2BDPhR4j%2BJ3h7T/FPiD4w/D2XQfDV7rUEWoakkfjPRmka3t2cSTBVVixRSAFJOMGvoegD5Cv5Lz/AIJc/FO814W0r/s5eN9Za41AQxll%2BG2s3EnzzbR9zSrmRstj5beZycKj8/XFle2epWcOo6ddxXFvcRLJBPBIHSRGGVZWHBBBBBHBBqPWtF0fxJo914e8Q6VbX9hfWz297ZXkCyw3ETqVeN0YEMrKSCCMEHFfJzeF/jH/AMEx7uS/%2BGWgaz4//Z8aVpLvwnZh7vW/h8pJLSWKkl77TVyS1vkywD5k3qGWvR93MFq7Vfwn8%2Bk/XSXdS%2BK/j9fz/wCCfXVFc78Kfi38NPjl4C0/4ofCHxtp3iHw/qsPmWOqaZcCSOQdwe6sDwyMAykEMAQRXRVwSjKEnGSs0RsFFFFSB5J%2B1z%2Bxt8Lv2wPCOn6b4uu9R0HxN4bvDqHgbx94buPs%2BseGb/GBcWswHAIAEkTZjlX5XU4BHjngf9un4sfskeJbH4E/8FSLCx0gXNwtn4V%2BPmjWpi8LeJSTiNL7qNFvmH3opT5DsHMUmMLX19Wd4t8I%2BFPH3hm%2B8F%2BOvDOn6zo%2Bp2zW%2BpaVqtmlxbXUTDDRyRyAq6nuCCDXVSxCUPZVVzR6d1/hf5p6Pyep0066UPZ1VzR/Fej/ADT0fk9S7a3VrfWsd7ZXMc0M0YeGaJwyupGQwI4II5BFSV8hSfsFftC/shXMniD/AIJkfG2303w%2BJDLP8C/ibNcX3hlsnLLp10pa70cnLEIhlg3MP3QArT8Jf8FV/hr4N8Q2nw1/bv8Ahb4g/Z78V3Uogt38c7JvDuoy/wDTlrsGbOUdOJWhk55QVTwbmuag%2Bddl8S9Y7/NcyKeFc1eg%2BddvtL1jv81dH1VRVfSdX0nX9Mt9b0LU7e9srqJZbW7tJ1kimQjIZHUkMpHIIODViuPY5NgooooAK82/ac/an%2BF37KngdPFfj%2B6nub6/m%2BzeHfDemR%2BbqGs3ZwFgt4hyxJKgt91dwyckA8/%2B1d%2B2R4f/AGeW0/4d%2BDPDc/jL4l%2BJMx%2BFPAulNme4Y5Hnzkf6i3XBLSNjIVscKzLhfsx/sceINB8cP%2B1D%2B1d4kg8X/FjUYdsU6rnT/DMBziz0%2BM8IACQ0v3my2PvOz%2BvhsDRo0VisbdQfwxWkqnp/LC%2B82vKKlLbx8Vj69au8JgbOovik9Y079/5p22gn5zcY/FgfBf8AZX%2BKP7QXxEsP2q/28LWB9Ss387wL8LopPN07wuhwVlnHS4vDgEsQQpHqEWL6loorkxuOrY6onOyitIxWkYrsl%2Bb1berbZ14HAUMBTcYXcpO8pPWUn3k/ySsktIpJBRRRXGdoUUUUAFFFFABRRRQAUUUUAFFFc38VvjH8JfgT4OuPiF8afiXoXhPQrUfv9W8Q6rFZ26nGdu%2BVlBY44UcnsDTjGUnaKuxqMpOyV2dJXO/Fb4ufDD4F%2BAtR%2BKXxk8faT4Z8O6VCZdQ1nWr5Le3hXsCzkAsTwFGSxIABJAr5nm/4KJfGr9p8nQ/%2BCaH7Ml/4tsZjsX4vfEqG40HwjAP%2BesAkQXuqgEEYt4lQ8Hzcc1sfDD/gmnpOvePdO%2BPf7d/xYvfjj4/02b7Ro0euWKWvhrw3L2OmaOhMMbrwPtExlnO0NvU12fVY0dcRLl/urWX3bR/7ef8A26dX1aNLWu%2BXyWsvu2X/AG8/kcbfeNP2nv8Agqgp8P8AwiTxJ8HP2errjUvHl5bvY%2BKvHlsesWlwOA%2Bl2Mi9byUCeRWXy0QFmr6u%2BDnwa%2BF37Pnwz0f4OfBfwRYeHPDOg2gttK0jTYtkUKAkk9y7sxLM7Es7MzMSxJPTUVlWxDqRUIrlgtl%2BrfV%2Bb9EkjOrXdSKhFcsV0/Vvq/P7kkFFFFc5gFFFeZftMftafCT9ljw/Z3nju8u9Q1zWpjbeFfBmgWxu9Y1%2B67QWlsvzOc43OcImQWZRV06VStNQgrt9BpNuyOh%2BOHxw%2BGH7OXww1X4wfGDxTDpGhaRDvubmXLPIxOEhiQfNLK7EKkagszEADmvFf2WfhB8TvjT8WT%2B3l%2B1P4Ym0fXJrCSy%2BFngC9IZvBujy43yzDoNSugFMzDmNAsIPDCm/B39mT4tfHX4maX%2B1Z%2B3dbWi6tpExufh58KLG6Fxpfg4kfLczuPlvtT2nBnx5cRJEQ6MPpiu2c6eEpulTd5vSUlsl/LF9f70uuy0u5U2oqy3PGf2oP%2BS3/s4/9lmvv/UK8UV7NXjP7UH/ACW/9nH/ALLNff8AqFeKK9mrzyAooooAKKKKACiiigAooooA8X%2BBP7HmsfAnxp4v8a2n7WXxK8RyeOPFcPiDXrHxDaeHRA92lrb2ZCfZNIgdI3t7S2iYB84hDKVdnZtT4f8A7LUHhP40L8efG3xv8a%2BOtestDvtG8O/8JUdMjg0SxvLi2uLqG3j0%2Bytd5keyswZLgzSBbdQHG59/qlFAHjP7eH/JEND/AOyzfDj/ANTXRK9mrxn9vD/kiGh/9lm%2BHH/qa6JWp4Z/bA%2BDWtfGnUf2efEV7f8AhbxhaXckem6R4rsjZHXIVOBc6fIx8u7ibnARi4wdyLitIUqlVNwV7au3Rd/6%2BdiZTjG13a56lRRRWZR84/FD9hzxD4O8e6h%2B0D%2Bwn4/tfhx421Gb7R4h8PXVq03hjxZJ3N/ZoQYZm6fa7fbKMsWEmal%2BF/8AwUE8OW/jO0%2BCH7X/AIDuvg78Qbp/KsLLxBdLJo2vOON2mamAIbjOV/cuY5gWCmMkZr6JrA%2BJnwr%2BG3xn8G3fw8%2BLXgTSvEeh36bbvStZsUuIJPQ7XBAYdQwwQeQQa7o4uFWKhiVzW2kviXz2kvKXyki%2BZPSRv0V8ur%2ByB%2B01%2By7/AKZ%2Bwj8eheeHIeV%2BEfxYuZ9Q0yJB/wAs7DUQWvLAADCo5njyeVAFXtC/4KU%2BB/A%2BrW/gr9tb4WeIPgdrs8ohhvPFirceHryQ9rbWbfNswxziYwuM8qKHgZVFfDy9ouy0kvWL1/8AAeZByX%2BHU%2BlKKq6JrmieJtJt9f8ADesWuoWF3EJLW9sbhZYZkPRkdSVYH1BxVquFpp2ZAVn%2BKfCnhbxz4fu/CXjbw1p%2BsaVfwmK%2B0zVbNLi3uIz1SSOQFXX2IIrQopptO6BNp3R83eCP%2BCXX7PfwT%2BKem/FD9lzxT41%2BFENtq6X2seDPA/ieSLw3rYD5eG40ucS20asMrm3WFxnIYGus/bl8W674e%2BEGl%2BGtB8U3ugt4w8baL4cu9e0%2BUxTadbXd2iTSpIP9UxjDIH42mQEEHFey1m%2BLvB3hD4geG7vwb498K6brekX8fl32lavYx3NtcpkHbJFICrjIBwQeldH1mpOtGdVuVu%2B/39fnfbsdH1ic6sZ1XzW%2B/wD4PzufMvwb8ZfFTw1%2ByB8VfEH7P0viHxeuk%2BJNXh%2BEn27UJdYurq0RYkjWKa8lZ7qNJvPCeZKciMruwAB5vrn/AAUt%2BMY0bQv2ZP2eNW0b4t/HPxNcXVvm98LTeF7XwhDbK4uZ9bhlmuTDNE6N%2B6ULu3KdmCnm7nx38X6h%2B014vvv2Qv8AgnpLd%2BH5tPu7NfHHxV8NapcWOn%2BFktkMcdra/ZnRJ5/Lynkr%2B7wMMDtLRdF4d/4JT%2BGvgr4N0jSv2W/itJ4Y8RR2Wt23izxl4k0c6zqPiB9VSEXV9LJ58O29R4VeGRvMhj3yAwOHNe8qWDwcVUxkVzy96MHutFZ1LaqL3UVaUt2lF68EMww%2BbTnTw7tFS96dtNFZxjJbtP4pR0Turt/DyP7GPxQ/Zu%2BBuk6D8S/GjeLfFXxK%2BJOjaRqvxD8e32kfaDoX9qTtbWdvdyq22yge5hkhSNN2PJBkCoEI%2B5K%2BRNR/Ya%2BJWj%2BMtc%2BDvgnRdHT4ZeLdU8P3Op%2BIp9af%2B0bHTdLtYkbSha%2BTiRpp4Xl%2B0eaABezAxgou76K%2BO%2Bi/HTXvhvd6d%2Bzj468O%2BHPFZmiex1PxToMupWSoHBkR4Ip4XO5cqGDjaTnBxivLzGtHGYhVXO7l1b0S6KyXupbKKVklsdUMDl%2BCpQo4RKMdet99byeru23du7e7d2djRXyr9t/4LbeHPmm0D9l7xbGn3vs%2Bo%2BIdDlkHsrR3qg/VsVJa/tHf8FWtJkNt4k/4JmeC9TCRuxu/Dfx/hxIwUkKI7rTYiMkADLY55wBXP9Tm/hnB/wDby/Wxv9Uk9pxf/by/Wx9TUV8q/wDDaP8AwULsT/xOf%2BCPHjNlHV9K%2BL3ha4H4B7yNv0pf%2BG9/2wIRi7/4JB/GJW7iHxZ4XkH5jU6PqOI6cv8A4FD/AOSD6nX8v/Ao/wDyR9U0V8rf8N4/tmXHy6d/wSA%2BLjN2Fz408LQj8zqRpP8AhsX/AIKPX3/IK/4I%2B%2BIIQfutrPxr8NQD8fJmmI/Kj6jX68v/AIHD/wCSD6nX62/8Cj/8kfVVFfKp%2BO//AAV58T/ufD//AAT1%2BFnhknhZ/FPx4lugPcpZaS35BjR/ZP8AwWz8UfuL3xp%2BzH4Nif78unaJ4g12aMf7Jlms0J%2Bq0fU5L4pwX/byf5Jh9Ua%2BKcV/28n%2BSZ9VUV8p/wDDGP8AwUL8Z/ufiv8A8FafENrayf6%2Bz%2BGvwo0XRSB6JPdreyrj13e%2BKD/wR9/Zu8W8/tDfFz40/Fsf8%2B/xD%2BL2qS2uf%2BvSzktrfB/u%2BXt9qfsMLH4qt/8ADGT/AD5UHscNH4qv3Rb/AD5UeofHP9vn9if9miOb/he/7VPgTwzcQff07UfElv8AbSe4W2VjM59lQ15X/wAPUbf4oj7L%2Bxj%2Bxf8AGT4ttNxZa6nhQ%2BG9BlPqdQ1o2wK%2B8ccnsDkZ9d%2BCP7Dv7HH7NnlSfAb9l3wH4UuIh8t/o3he2hum92uAnmufdmJr1OjnwNP4YOX%2BJ2X3R1/8mHz4OHwwcvV2X3R1/E%2BTT4J/4K8ftDnPjX4t/Df9nzQZ/mOneBdOfxV4hCHgxvfXyQ2ULY/ijtpcdQfTofhX/wAEqP2SPAvjG3%2BK3xM0XW/i545tuYvG/wAY9bk8QXsJzkGCOf8A0a0wen2eGPHQdBX0jRSlja9uWFoLtFW%2B97v5yE8XWtywtFf3Vb73u/mxFVVUKoAAGAB2paKK5DlCivN/GH7WvwB8J6F4v1W1%2BIum65d%2BB7OS48Q6H4fv4bm%2BgKFQY/KDjD7nRDuKhWdQxXOa818Z/tWfFbxxr/h34R/DfRk%2BHni3UdeutO12LxnpkWoHTpo9Pe9tYlFvdLE6XIRgs6u4HluuzcykdVPB4ip0su706X9dvJ9ClGTPpKqXiPxJ4d8H6Fd%2BKPFuvWWl6ZYQNNfajqN0kEFvGOrvI5Coo7kkCuY%2BAHxUuvjH8MbTxjqujrp2pJd3Vhq%2Bno5ZYLu2uJIJQpPJQtGWU91Za828S/8ABP7wB8YPivefE/8Aaj%2BIPiD4m2ceqtdeF/A/iGWOLw9oce7MaiwgVY7uRQdvnXPmkjHAPNTClSjUlGvLlt2V2/JdPm3b1BJX1OY1H9tP4wftT3k3gz/gnR4Bh1LS/MaDUPjX4xtJYfDllg7XNhF8s2rzLhgPL2wBgu6Ug4rvv2bv2Kfh/wDAXxBefFfxN4i1Px78TdZgEev/ABJ8VlZL%2BdOpt7dVHl2NqCTtt4QqgY3FyAa9hsrKz02zi07TrSK3t4I1jgggjCJGijAVVHAAAwAOlS1pUxdoOnRjyRe/Vv8AxS/RWj5MHLSy0CiimXNzbWVvJeXlwkUMSF5ZZXCqigZJJPAAHeuMk8c/ag/5Lf8As4/9lmvv/UK8UV7NXhXx48VeGPG/xQ/Zo8V%2BDPEVjq2l3vxjv3s9R0y7SeCdf%2BEL8UjckiEqwyCMg9q91ptNOzBNMKKKKQBRRRQAUUUUAFFFFABRXM/Cz40/Bz456Jd%2BJvgn8WfDPjHTbDUpNOvtQ8La9b6hBb3kYVpLeSSB3VJVDoWjJDAOpI5FJ4O%2BNvwZ%2BIni/Xfh78P/AIueGNd1/wALTiHxNoej6/b3V5pEhLAJdQxuz27EqwAkCnKn0NAHAft4f8kQ0P8A7LN8OP8A1NdErufjN8CPhB%2B0L4Pk8B/Gf4f6d4g0x23xw3sXz28naWGRSHhkHaSNlYdjXDft4f8AJEND/wCyzfDj/wBTXRK9mqoTnTkpRdmuqE0pKzWh82L8L/21P2VP3vwM8af8Li8Fw/d8EePNTFvr1lH/AHLPVSNlyB2ju1zhQPOrsPg3%2B3N8CPi34nHwz1O/1DwV45UDz/AfjyxOmaoCf%2BeSSHZdKcZDwPIpHOa9jrkvjF8Bvgz%2B0F4YPg741fDTSPEungloodUs1doGP8cUn34X/wBtCrD1rs%2Bs0a/8eOv80bJ/NfC//JX5mPs5w/hvTs9vk91%2BKOtor5xX9lb9pz4C/v8A9kT9pue%2B0mL/AFXw/wDi75urWKr0EdvqCEXtsoHChjOo/u44p4/b11r4TH7D%2B2b%2Bzd4r%2BHKx8SeKtMhOveHmHQObyzUyW4PXE8MeB1PBNL6lKprQkp%2BS0l/4C9fuch%2B2Uf4i5fy%2B9frY%2Bi6q63oeieJdJuNA8R6Pa6hYXcRjurK9t1lhmQ9VdGBVgfQjFY/wz%2BL3wq%2BM/h9fFfwk%2BI%2BieJdNbH%2Bm6HqcV1GpP8LGNjtb/ZOCO4roq5JRnTlZppr5P9DVNNXR8261/wAEyfhD4X1e48X/ALJnxB8W/A/Wp5DNIPh5qYTSLmXsZ9JuFkspFHosaH/aquPFP/BUX4EHyfFHw38CfHXRYflGo%2BFL8%2BGddKjq72l20lnK2P4Y54s%2Bg7/TVFdax9aStWSqL%2B8rv/wJWl%2BLNOd9dT5v0n/gqZ%2BzBpepQ%2BHP2gLfxb8HNXnfZHY/FfwvPpULnuUvcPZuvus5z%2Bde9%2BDfHXgj4i6HH4n%2BH3jLStd02b/U6ho2oxXUD/SSNmU/gau6rpGla9p02j65plve2lwhS4tbuFZI5VPUMrAhh7Gvm344/wDBPv8A4J3eENJ1T44a94Es/hbLp1uZ73xh4B1u58NTW%2BP486fJEsjknADI5ZmAAJIqoxwOIkoxjKMnsl76v6aS/Mmc6MIuUnypat9EvnY%2BlNR1HT9H0%2BfVtWvobW1tYWlubm4lCRxRqCWdmOAqgAkk8ACvkXxR8Vvi3/wUg8RXvwp/Zo1y/wDCvwdsrlrXxf8AFCFDHda/tOJLLS9w4jPKvPjHXt8sviXgb9lj9sb9ubwTrVn4W/ar8eaZ8FZ7qGbwla/GCCPVL7xKI2zum%2ByCzuVsn/hEkzscIwDHlforwvq//BTb4CeHbLwlB%2By38GPG%2Bh6bbLb2Fp8PPF914dkhiUYULbX8EsK8fwifHuK9qODw%2BUN8tSE8Qtk3ZU/NqSalUXa7jB780tF4H77PtINww3fWMqvps40330lNbcsXeXvfwb%2BDHw0%2BAPw9sPhd8JfClto%2Bi6dHthtrdeXY/ekkY/NJIx5Z2JJPU11FfNf/AA8H8b%2BEf9H%2BNf8AwT5%2BOnhyZP8Aj4udE8NW3iKzQdyJdLuZnIHr5Y4qaw/4K0/8E/5LtNM8T/HtfCt452tZ%2BN/Duo6I6N/dP263iXj2JHvXjVMFmVabqSi5t6tr3r%2Bd05Hu08OqNNU6cbRSsktkl0SR9HUV574M/a3/AGVPiMEPw/8A2mPh/rhf7q6T4xsrgn2xHKTn2rv7e5t7yBbm0uEljcZSSNwysPUEda4p06lN2nFr1TX5pFNNbj6KKKgQUUUUAFFFFABRRRQAUVU1jXtD8O2h1DxBrVpYwL1nvLlYkH4sQK8y8bft4/sS/DkOPG/7XHw306RPvW8/jSy878IxKXP4CtKdGtVdqcW/RN/kmNJvY9Yor5sb/grL%2BxfrBNv8LvE3izx/dH/V2vgD4dazqpk/3ZIbUxH/AL7pD%2B3D%2B0Z41%2BX4I/8ABNL4qX4/5%2BvHeoaX4Zg%2BuJ7mSfH/AGx3f7NdP9nY1fFDl/xNR/8ASmvyK5Jdj6Uor5q3/wDBWf4k/dt/gj8LLKfu76l4o1G3H0Asrct/30D7Uh/YG%2BLPxC/eftI/8FBviz4mVuJdK8IXNr4U0%2BRe6MmnRi4Ze3NwTjqTR9UpQ/iVor0vJ/gkvxDlS3Z9KCWNpGiWRSygFlB5Gemfyrxb4V%2BK/iB8Lvj34v8Ag/8AGj4sXniGxvtGg8U%2BFNa1m0tLUQWwkNre2QMEUUYjgf7I4LAuRefMzGuo/Z8/ZU%2BAf7LGk6jo/wACvh%2BmiprFwk%2Br3EmoXF3c30qKVWSae5kkllYAkZZj1rQ8Sfs8fBLxn8U9O%2BNfjP4babrHifRrQ22i6rq0RuTpqEksbZJSyW7tn5pI1V2AAZiAAIjPDwlOOri1o7K99LdXbW99dhJxVz5l/wCFGeJvF/iPwn8F7j4f6teWFn4l1%2BY%2BPLAodNvvCuq/abl/9JUkC6NyLGTy9p3SQh8bWLD0nwZ%2Bxt4t8TXWr6n%2B0l4z07Ur2XS9EsdG1DwjHPY3EM2mPLLFqpkdmaO8d5FDKpMYWFV%2BYM4P0J06UVrUzGvJWjp%2Be936X7LQbmzn/hd8M/C/wg8E2vgLwgLtrS2kmlefUL17m4uZ5pXmmnllkJaSSSWR3Zj3Y4AGAOgorzz41/tY/s4fs6xqPjL8YtE0S6lx9n0qS582/uM9BFaRBp5SfREPUVyxjWxFS0U5SfbV/gZynGKvJ2PQ6jurq2sbaS9vbiOGGJC8ssrhVRQMliTwAB3r53b9qL9qv44D7L%2Byt%2Byjd6Rp0vEfjf4xyPpFoB2eLTo917cKRyN4gB9R1p1t%2BwPc/Fa5j1v9tn46698UZFcSL4VjH9keGoGByoGn2zZuNp43XMkuR1Aro%2BqRpa15qPkvel9ydl85fIx9s5fw4389l%2BOr%2BSLPin/goD4P8R69c/Dz9kTwBqnxj8TW0hium8MSrFomnSf9PerSf6PH3%2BWMyycY2ZrPg/Y4%2BLH7RNxHr37enxXj1rTt4kh%2BFXgl5rLw7CQcgXUhIuNTIIB/elIsg/usGvoLwx4V8MeCdBtvCvgzw5YaRpllGI7PTtMs0gggT%2B6kaAKo9gKv0/rcaOmGjy/3nrL79o/9uq/94PZOf8R38tl/wfn9x4Z8fvDnh7wh8Uv2Z/DHhPQrPTNNsfjBew2Wn6fbJDBbxjwT4owiIgCqo9AAK9zrxn9qD/kt/wCzj/2Wa%2B/9QrxRXs1cTbbuzfYKKKKQBRRRQAUUUUAFFFFAHyr%2Bwt8UvDUPxZ%2BO2nQ/C/4i6FaeIPjLb33ht9b%2BD3iHSbW6sm8O6JYrNHJdWEUYjFxY3KE5AQRhmwjozcR%2Bwp8P/iDpfxh%2BFPhjVvhR4o0PUPhP8M/GOg/ErXtZ8NXVlZ6nqd/rOlzQta3Usaxamty9nd33nW7yrGHHmFJJitfcNFAHzx/wUL034rz%2BD/Bmo%2BHPGnh618LQ/GH4ejXtGvfDE9xqF458Z6N5bW94t7HHbBW2lg9tMWAIBTII2vHKftz/AAy8Y6l4s%2BH8vhf4neF7u7eeHwjqAGi6tp0ZPENtdruguFUf891Rj0396n/bw/5Ihof/AGWb4cf%2BprolezVpSqezeyafRr/hmvkzGvR9tFJScWtmnb/NP0aaPEvBv7fPwK1PX4fAvxYOrfDHxPMdqaB8RrA6aZm6fuLliba4BPAMcrE%2Bgziva4ZobiFbi3lV43UMjo2QwPQgjqKzfGPgjwZ8Q9Bm8K%2BPvCWma3plwMT6dq9jHcwSf7ySAqfyrxaX9gnQ/AEz6l%2Byj8afF3wrn3F10nSr3%2B0dEZz1Ladeb41B/wCmRi9iK2thKuzcH5%2B8vvXvL7mc18wobpVF5e7L7neL%2BTie%2B0EAjBGQeorwEfEP9vr4Qfu/iF8EvDPxR0uLrrHw91T%2BzNSCDqz2F8xjdyOcR3H0Har/AIb/AOChf7Ml9q8Xhb4ieJdR%2BHWuSnA0X4laPNosufRZLgCCTPbZI2e3UUPB12rwXMv7rv8AgtfwGsxwqdqjcH2muX8X7r%2BUix8Sv%2BCf37K3xJ8QN45h%2BHJ8LeKDkp4t8B382iakrn%2BMzWbR%2Baf%2Bugce3Fc6Pgb%2B3p8IRn4K/tZaV4706PiHQPjD4fBnCeg1PThHIW95IJPfNfQOlatpWu6fFq2ianb3lrOm6C5tZlkjkX1VlJBH0qxVRxuJiuWb5kuklzfnqvk0dHsaT96OnmtPy0f3HzuP2xvj/wDDb9z%2B0b%2Bwr41sol4bXfhvdQ%2BJ7JgOshjh8u7jXvgwEj36177oGt2XiXQbLxHpqTrb6haR3Nut1bPDKEdQyh43AZGwRlWAIPBAIq3Xk37WX7WXgD9mDwfCNVN7qnirXi1p4P8ACWhxiXUtVu2%2BVRFGVbChiN0jKVHAwxIRnCm8fWjSw9K030TbT%2BT2tu3eyW9kjOtXpYGjKtXqWgur/wCBu3sla7dkk2zn9U/bR0n4Pab8TPFH7SGoaJpujeCvFaaTotxoryvPqryWUN2lqsMnL3KrcRqQh2k7mOxVJHhHwkXxf/wUD%2BIE/wC0L%2B2p4G1nw38K/CzXV94M8G6iIl0dvsrsk15qkvmbnmjKSAxSIiLscfd3h979kX/gnn8YbDxsv7VH7Xni/TPFHjq8vLnU9O8M6lZK1poFzMuRIGgKQtc5SFXkERCiMBMlEYdV4x/Zh%2BLkvhzx9rmlfCzwl4fTxBo9jb3vgrwLqRlh12ZNQFxe3rtLb2qfaJLdpYURl%2BZmbfLhgR7yqZfl8pU8NNe1dk6i2jspKn1u9b1POy5Y%2B8/F%2Br4vNGqmKi1SWsab3l1Uqn4Wp9LXlzP3V754F%2BNXwj8deELjxh4Q8Z2J0jTrj7Ld3FwrWi2kgC4R1mCGPIdCuQAQ6kZBBPVRyRzRrNDIro6gqynIIPQg18g%2BOLSW1%2BImmfGn9oj4f32meC/EXizUNS1Dw9qOli9YyW2mfYdNju4IRKrSTLJPIA25VaC3Utu2ge%2Bfsr%2BGfE/gP9nPwt4e8bWL2l9Z6Vul08glrGNnZ47XAyf3UbJFj/pnXhYnC06VNTi935P1V1u09%2BmqPdpVZTlytf1/wT0Sob/T7DVLR7DU7GG5gkGJIZ4g6MPQg8GvA4v%2BCo37FFpItr4y%2BKGoeE7nOHtvGXhDVNKKH0LXNsifkxrt/Cf7Z37IfjsKPB37UXw%2B1F36Q2vjCyaQexTzNwPsRWcsFjaavKnJfJ/mk/zKVejJ6SX3oh8Z/sQ/sZ/EQu/jr9k/4b6tI/3p77wVYyS59Q5i3A%2B4NcDcf8Ejf%2BCdrzPc6V%2BzZZaNI5yX8Na7qOlHPt9juIsfhX0LpOt6Lr1qL3Q9Xtb2E9JrS4WRT%2BKkirVOGNx1JWjVkv8At6X5X/Q3U5W0Z82/8OufgZpvHgb4y/G7wwo%2B6mhfG3XUVfoJbl/1o/4dy39txo//AAUC/aSswOg/4WNBc4/8CrOXP419JUVX9o47rO/qov8AOLHzz7nzb/wwZ8ZrTjSP%2BCmvx2QDp9tn0K4P5tpgzR/wxN%2B02nEH/BUT4tAf9NNB8PMfz/s6vpKij%2B0MV3X/AIDD/wCQDnl/Vv8AI%2Bbf%2BGI/2lJeLv8A4KhfF1h38nRfD0Z/MadR/wAMBfFK9GNb/wCCl/7QMnqLHVdEts/986WcV9JUUf2hi%2BjX/gMP/kA55f1b/I%2BbT/wTeguv%2BQ3%2B3Z%2B0leg/eH/C1ntc/wDgJDFj8MUf8Oqf2XdU/wCR88S/FXxVn73/AAkXxn8QyhvqEvEBr6Soo/tHHdKjXpZflFBzz7nzvo//AASb/wCCcuj3Yv2/ZK8L6lOP%2BW3iBJtTY/U3ckmfxr03wT%2By5%2BzN8NGRvhz%2Bzt4F0Ax/6ttF8JWdqV%2BhiiWu7rL8R%2BOfBPg%2BIz%2BLfGGlaWgGS%2Bo6hHAMfV2FRPF42vpKpKXleT/C/wChLnK2rNQAKAqgAAcAUV5F4u/b%2B/Yg8DBh4l/a0%2BHsMifft4PFdrPKP%2B2cTs/6VzB/4Kc/st6x%2B7%2BGQ8c%2BOZv4YfBfw11i%2B3fSQWwjP4PRHA42auqcrejS%2B92X4mLr0E7OS%2B//AIc%2BhKK%2Be/8Ahsj9oDxbx8I/%2BCdvxMvB/wA/HjPUdL8PxfXE1zJLj/tnn2pDq/8AwVE8dfPYeDfgz8PbaXgjU9W1HxDeQj12wx2kJI/3yPaq%2Bo1Y/HKMfWUfyXMxe3g/hTfon%2Btj6Fql4g8SeHfCelya54q16y0yyhGZrzULpIYkHu7kAfia8H/4ZF/aa8ccfGr/AIKFeNpYDybD4eaBp/h2MHuPNCT3GP8AtqD6EVc0D/gmh%2Bxtp%2BqR%2BIvGPwsl8cashy2rfEbWrvX5nb%2B8RfSyRg/7qAUexwcPjq3/AMMX%2BcuVfgHPWltG3q/8ri%2BJf%2BClX7H%2Bl6rJ4Z8EfEifx9rScLonw10a51%2Bd2/u7rJHjU/7zqKzz%2B0L%2B3F8Vj5XwP/Ywh8KWUv8AqfEHxh8TR2hUep06w8%2Bcn2d4/wAO3vPhvwt4Z8HaTHoPhDw5YaVYwjEVlptmkESfREAA/AVfp%2B3wlP8Ah0r%2Bcnf8I8q/FhyVZfFK3ov1d2fOx/ZE/aN%2BK/779pv9tjxJLaSfNJ4X%2BFtinhuxGfvRtcK0t7MmOP8AXJn0659C%2BCv7If7NH7PEjXnwf%2BDWi6Rfy5%2B0a0bc3GoTk9TJdzF55M8/ec9T616PXnl/8b9f0T4pad4I8SfCfUNP0fWtYk0rR/EM%2Bo2zfartbeW4/wCPdGLrEyQS7XJ3EocoowaTxOLrxcE7R7K0V9ytf53IksPQalLdu13d/jrb8D0Osnxp468LfD7w3d%2BLfFmqfZ7Gy2i4eKCSZ9zMFRFjiVnd2LKFRVLMWAAOa8N%2BI/xZ%2BJvhb4ieLvGcXxCmg07wf4j0myufCc9tAbSXSbyK3R7veIxN5izT%2BZv8zaqwsm3qT5Z4Z%2BHrXosfg/8ACezh0/xzaaFPJ4t06SIRKdZ0m8S607UbsqBl7i4OftWCZVL/ADMEwLp4JNc05af03ftutdVqcVbM3GTjThrqteru0rJb6p6XTsj7D8C%2BPvCfxJ8PR%2BKPBmri7s3kaNiYnjkikU4eKSNwHikU8FHAYdxXmnxO/as8RaN44v8A4S/A/wDZ48XePPE2nMiX0iWv9maPZO6LIom1G6Cxk7HVsQrKcHGM8Vs/ATw/40t/E/jbxx4o8EXnhmDxHrNvc2Wi317bzSBo7WOKW4Y28kiL5jrwN24rGhZVYlR6VWD9lRqu65l6/nbe22jR1L6xiMOrS5H1dtbarRS2vo9U7djwH4w3Hjy68efsw3PxP0zS7PX3%2BL16dUtdEu5J7WKX/hCvFPyxySIjMMY5KjnNe/V4z%2B1B/wAlv/Zx/wCyzX3/AKhXiivZqwbu7nXFcsUr3CiiikMKKKKACiiigAooooAKKKKAPGf28P8AkiGh/wDZZvhx/wCprolTeMrX9tjwR4r1DxH8P9T8G%2BO/D9xdPNb%2BGNYhk0fULOIniCG7j82KXA/iljUnu3rD%2B3h/yRDQ/wDss3w4/wDU10SvZI5YpQTFIrbWKnac4I6j61cJ8j2T9TmxWGWJilzyg1qnF2f5NNeTTR4jD%2B3T4H8Iyrp37Rvw18XfDG63BGuvEmkGfTHf0TULTzYCPd2T6dK9a8G%2BPPA/xE0dPEPgDxjpeuWEn3L3SNQjuYj/AMDjYitSaGK4iaCeJXR1KujrkMD1BB6ivJfGP7DX7M/ivWH8VaX8P/8AhFtdbJXX/A99No14rf3i9oyBz/vhqu9CW6cfxX42f4s4uTOcP8MoVV/eXs5ffHmg/nGJ65VHxH4X8M%2BMdIl0Dxd4dsdVsJxiay1K0SeGQf7SOCp/EV45/wAKQ/a7%2BHHzfCL9q6LxFZx/6nRfij4eS7JHob6zME34sr/j39J%2BEmqfF/VfDEj/ABt8IaJo%2Bsw3jxLH4e1eS8tbmEKpWZWkijePLFhsYEjaDnnAUoci5oyT%2B9P7tzahjJ15%2ByrUJwduqUov/t6La%2BTSv2PMtU/4J1/s222oS678JbPxB8M9Tmbc998NfEdxpKk%2B9ujG2YezREdulQj4P/t5fDj5vhr%2B1Z4e8aWqfLFpnxN8ICOUL6G901oiT/tNC3vmuj/aB13xDbeJtF0v4XePNYTxdJcwLa%2BHdOWKW0ltmnj8%2Be%2BR428uFYt/7zfG2QFQsxCnyL9rb9un4gRfF%2Bx/ZR/Y6vvDt94uvHNp4l8Ratuex8MSykJD5kgOzzs7v3ZVzuCgoSdtejho47FyUU1JWu3JXUUurbV0vnrsrvQ8nG4rKcvU5Si4crUV7N2cpS2jGMWk5d01orOTSMj4w/8ABR/9pb4N%2BKD8AtU/ZGsde%2BJuoaXJcaHYeCPFv9rW7Y/5b3EAgjuYIgMsAwG8KQGHLDm/2Tvil%2By78IfGFx8bf2yfifrcHxq15Nmqax8R/CF/pMOlRnOLKwNxCsMMKgldysGcZOFB216p%2Byj4G%2BFH7L/iq68Iw6Lr/iTxT4g10ab4z%2BLWqGGU6nrZthdNbFmk85Ygpwu1DGrjYzF%2BT7h4J%2BLfwt%2BML32ieFNWGprbwpJcR3GmzRxXEEhZUmiMyKlxCxRwJIy6HaRmu3EY3CYajLD4Wm1Fr3pp8rn5JPm5YX2je70cukVy4OhXxleFfEYiLnFvkpySkov1XJzzSveaTS1UNnJ2vAvxf%2BE3xQtxd/DT4n%2BHvEMRXcJND1qC7GPXMTtXRV5P46/YU/Y5%2BJFwb7xX%2Bzb4Re7Lbjf2Ojx2dyT6%2BdbhJM%2B%2B6ud/4d/eBtA%2BX4T/AB8%2BL3gqJf8AVWmifES6ubZD/wBcb/7QmPwrxuTBy2m16xv%2BMX%2Bh9F7TMYfFTjL/AAya/CUf1PeqK8GHwB/bY8M8%2BC/28F1OKP8A1Vp41%2BG9jdbh6NNZvbP%2BOCaPt/8AwUx8OfPc%2BHPgp4riTqtnqWq6PNIPYSR3KA/8CxR9Wi/hqRfza/NfqH12cfjozXolL/0mX6Hu8sUc0bQzRq6MMMrDII9CK4jxZ%2BzF%2BzX49LHxz%2Bz34H1kv986r4Ts7gn8ZIzXn/8Aw0V%2B2ZovPir/AIJ931zGv%2Bsm8LfEnS7z8Qlx9mc/TFH/AA3NqGnfJ4s/Yt%2BOemsv%2BsaHwRHqCD6GyuJiR%2BFXDD4uDvTf/gMl%2BkkJ5hgmvfuv8UJL84MNW/4JgfsA6tcm9/4Za8M2Mx6S6JFLp7D6G1ePH4VV/wCHZX7Munc%2BDNT%2BI3hsjodB%2BLWvQ7foGu2A/AVb/wCHj/7M9h8ni9fHPh1%2B8evfDDW4Nv1ItGUfiaktf%2BCl/wCwjdTC3l/aW8P2kh/5Z6n51ow%2BomjUiujnztLeb%2B9//JGX1vJr/HBfNL8%2BUoD/AIJ9Wlrxov7Z37QVkB90D4oS3OP/AAKil/Wj/hh/4nWP/ID/AOCiHxwi9BfX%2Bj3WP%2B%2B9OFdfpv7c/wCxbq4H2H9rP4cEnosnjSyjY/g8oNbdl%2B0/%2BzVqQB079obwNPnp5Pi2zbP5S1DxGZr4k/nBfrTNo1Mul8M4/Ka/%2BTPNv%2BGR/wBp%2B3407/gpP8RVA6fafC3h%2Bb%2BdiKT/AIZZ/bGXiL/gpl4wA/2/h34cb/2zr1yD42/Bi6GbX4u%2BGJB/0z1%2B2P8AJ6sL8Vvhc4yvxJ0A/TWIP/iqj63jFvFf%2BAR/%2BQNFHCvaX/k3/wBseN/8MrftgycXH/BTHxmR/wBM/h/4dT%2BVnS/8Mf8A7SF1xqn/AAUj%2BJzg9fsmg6DB/KwOK9if4tfCuIZk%2BJnh9R6trMA/9nqpc/Hf4H2YJvPjL4UiA6mTxFbL/N6Fisa9or/wCP8A8gDWFW8v/Jv/ALY8n/4YV8cXnza3/wAFBvjzOe62uv6Xaqf%2B/WnAj86P%2BHePhq848QftYfH3U1P3o5/i3ewo31W28oV6JfftXfst6WCdS/aT8AW4HXz/ABjYpj85awtU/b6/Yi0gE3f7Wfw9bHUW3iy1mP8A5DdqtV80l8Kfygv0pmUquWw%2BKpH5zX/yZzH/AA6%2B/Y/vvn8V%2BG/FviCQ/efxB8S9dut31VrzYf8AvmtTw5/wTX/YG8LyibTv2R/As7g536poMd8xPqTcB8mq7/8ABTT9hguY7D9oCw1FgcbdH0u9vT%2BAghfNN/4eJ/A7UuPBHgX4o%2BJifu/2F8KNZfd9DJbIKtyzpqzc0vVr9YmSxeTp6Tg/Sz/JSPU/CPwV%2BDfgAqfAfwl8M6IU%2B4dI0G3ttv08tBiumrwY/tqeOtY/deCP2E/jPfyH7japo1hpcR%2BrXV4rD8Vo/wCF4ft3a7%2B68PfsL6XpG/7tx4q%2BKlouz3aOyguM/QNXNLDYmTvNr5yX/wAk2arMMIlaCk/SE3/7ake80V4N/Zv/AAUw8S/urvxR8FvCcT9XsdM1TWJ4x7GSS2Qn6rSf8MvftSeKP3XxJ/4KB%2BKvIb79v4J8I6Xo%2BP8AdkeO4lH/AH2an6vTXxVYr0u/yX6j%2BuVZfBQm/Xlj%2Bcr/AIHvVcJ8RP2of2bvhIJB8TPjx4R0OSPO621HxBbxzE%2BgjL72PsATXAf8O5/gFrnz/FjxJ8QPHz/9Tn8Q9SuY/wDvzHLHDj22Y9q7v4d/sp/szfCUxyfDX4A%2BD9FmjxturDw9bpPkdzLs3sfck0cuDjvKUvRJfm3%2BQc%2BZT2hGPrJyf3RSX4nBn/gon8GPEfyfBXwD8RfiO3QSeDPAl49vntm5uVhgx/teZj3o/wCFt/t9fEL938P/ANlPwx4Kt25j1L4j%2BNBcSbfU2mmpJg%2BxmX0OK97oo9tQj8FNf9vNv8PdQfVsXU/iVn6RSj%2BL5mcN8EfC3x98PWeoXXx9%2BLOi%2BJb29ljezttA8MnTrbTVAbfGhaaWSYMSDucgjb05rK%2BJ3wr%2BL/jH43eG/HXhXxl4c03RfD%2Bl3CRx6lo095dC7nkRZZYws8Uan7OhjV237fNkOw5Fdh45%2BKnwx%2BGNn/aHxI%2BIuh6BBt3CXWdWhtVI9jIwzXl8/wC378CtYlaz%2BEWm%2BLfiLcoxVovAnhO6vIgfe5ZUtwPcyYpQdeU3UjHfy07eS/EwxOJyvCwVCvWSaadnO83Z32XNN/8AgJ3esfAX4b%2BLNY0vxP470Ya3q%2BkS%2BZaapeYjkOJBKiusARJUR1VlV1YKVB6812eAOg614efib%2B3J8Q/k8A/s5%2BG/BFq3Kaj8Q/E32qcqe/2PTw2G9mnX3xSH9ln4z%2BP/AN58ev2v/Fd9C3LaL4FtovD1ng9UZ4t9zIvbmYZ/SlKDaXtJrT5/gtPxM4Y9yb%2BqYacr9WlTT9XO0n/4Az0P4pfH34J/BOz%2B2/Fn4p6HoAK7o4dR1FEml/65xZ3yH2VSa86/4a%2B8bfEb9x%2BzR%2BzL4s8URP8A6rxD4ki/sDSSp6SLJdr58y%2B0cJz6%2BnYfC79k79nL4M3n9rfDz4Q6PaakW3PrNzAbq/du5a6nLzE/V69DqeahHZN%2Bun4L/Mv2OcYj%2BJVjSXaC5pf%2BBz0XygeCfGiTxvL8Qf2Y5PiRa6XBrrfF%2B9OpxaJNJJaJL/whXinIiaVVdlxjlgDXvdeM/tQf8lv/AGcf%2ByzX3/qFeKK9mrJu7uepCPJBRu3bq9367a/IKKKKRQUUUUAFFFFABRRRQB8u/Ab9sb42/ED4xeFpPG2meFl8B/EzWvF2meCrPS9NuYtV0uTRbuWKGS8uHuXiulu7e2uZiscMBt28uPM%2BTILvwa/an%2BLvib9sLxX8FPi94m0Tw3plv4l1DT/Afhu9%2BE%2Bt2N14itLe1hm%2B022u3F39gvXG6dngt4C6pCxO0KzV0Xg79gzwN4C%2BJcnxI8L/ABd8bwC1vdXu/CugST6dJp/hifVb5L3U3skeyMhNxIrr/pDz%2BTHPKlv5Ctgb8v7LUGtfHPR/jd4%2B%2BN/jXxKvhjV7zVPB3hPVTpkel6FeXNpPZPND9lsobmZltbq6hT7TPMFW4fA3bWUA4z/goX8XPhR4a8H%2BDPhR4j%2BJ3h7T/FPiD4w/D2XQfDV7rUEWoakkfjPRmka3t2cSTBVVixRSAFJOMGu18X/sh/CnxD4lvfHXhe/8Q%2BD/ABBqE7TX2teD9fmspLiQ8lpI8tDKSeu%2BM571l/t4f8kQ0P8A7LN8OP8A1NdErpvEXxW%2BJ/g/XbuLWfgHquo6NHOwtNV8NahDdyvHn5We2YxyKcdQu/8AGsq1enQSc728k399k7fcebmVLLqtKKxlPmino%2BWT5Xbe8fejp1TXa5zn/CF/tofD7nwl8XvDHjuzXpZ%2BMtHbT7sKP4RdWWUZvdofr60f8NQ%2BPvB37v41fsteM9GVfv6l4bSPXbJV7sWtT5yj/ehHvXRaJ%2B1H8DtXvV0i/wDG0eiageG07xLbSadMp9MXCoCfoTXe2l5aahbJeWF1HPDIMxywuGVh6gjg0qWIoV1enNS9Gn/wV80jgoYWFRXy/Gy06OUasV6qfvr/AMDRwHgb9rD9m/4jXX9neFfjHoj3u7adNvrr7Hdg%2BhguAkmf%2BA16EZIxH5pcBQMls8Y9c1yvxY8D/BPxH4au9a%2BNnhPw3eaVYWrzXl74jsoHitYlBLOXlGIwBk7sjFfEHhX4DQ/t0eNLuw/Ze/4Sn4YfAaAy2ms%2BINP16%2Bhk8ZHlXhs7SWQxRWw5BkaPB6bc7kHq4LATxfNUlLkpx%2BKb2Xkl9qT6RWr8km1nisyzjL6kKMoU605/CoOUJPu3GSnFRX2pcyS2V20jrfiZ4hvP2zPj9qng79hCKTQjbzJa/Er47abe3EEKqibPsVosMiJfzhDgO4ZY%2BCpX5ZB7L4J/YF%2BHfwz8CQfCT4e%2BMNU0/wAJzTQXHiPSXtLWWbWriKRZDPNdGITb5HRd/wAxXblUWMYxH8Ov2af2hv2dfBtj4B%2BAXxs8M3OgaXF5enaD4o8ExxLGucnM9jJEzMSSS7IzMSWYkk1t/wDC0f2wPCn7rxf%2BzDpHiBE5kvfBXjSMEj1EF9HCfw3k1vi8z5oLD4VOFJd9ZSa%2B1N9X2S92G0dbyfm4Wjh6cpVsyw1RVZ3u1BuEU94x9lKWj%2B03HmnvPS0Vma/%2Bzf8AFXVbjXdLt/FOkw6WdR1nWtAuU8w3cmpXkbC389dqokduztgqzGQLHnaVO7Y%2BAXgHxba%2BJrbxZ4k8C3Phay0LwXZeGdF0S7vLeaUrEQ80zNbu8ezKxInzZwjEhd2Ki/4bP8GaL/yUv4S/Efwkq/6y41jwVcTQKf8ArrZiZD9c1s%2BFv2wP2XPGUgg0L49eFzMTgW15q0drNn08uYo%2BfbFee685Rszuw9bhxYqMoYlKX8spKLera0moSsm3ZL53sVfiN8fPir8OfGV5pY/ZN8Y%2BIvD8Pl/ZPEPha/0%2B5a4zGrP/AKLJcRyptYsvQ525HWsP/hv34I6P8vxJ8MeP/Bjf9TR8PNShQf8AbSOGSPHvux717Npuq6XrNqt/o%2BpW93A/3ZraZZEP0KkirFJTpWs4fc3/AME9aWHzFyc6OJ0eqUoRkvROMou3bf1Z5d4W/bb/AGQfGTCPQf2lPBjSMcLBda/Bbyk%2BmyZlbP4V6FoXinwx4og%2B1eGvEdhqMWM%2BZY3iTLj6oSKpeKfhh8NfHAZfGvw80PWAwww1TSYbjP18xTXnuu/sCfsYeIJ/tV1%2Bzb4VtZc5Euk6cLFgfUG2KEfhT/2d919z/wAib55DpSn86kH%2BU0evUV4kP2AvgbpnPgfxL8QvDB7f8I/8S9XiA%2Bge4cD6YxR/wx14p075/C/7aPxjs2H3VvNfs75B9Rc2jsf%2B%2BqOSi9p/en%2BjYfWs2j8WFT/w1Y/%2B3Riz22oruys7%2BI299aRTRnqksYYfka8X/wCGfv2s7D5dG/b11Z0H3V1j4faTcY%2BpjSIn86P%2BFY/t5aZzYftW%2BCtTx0Gp/DB4s/Uw3/8ASj2UOk1%2BP%2BQf2jil8WEqfL2b/Koj0nUvg58ItZJOr/Cvw3dE9ftOh275/wC%2BkNYl7%2Byj%2By3qRJ1H9mzwBcE9fO8HWL5/OKuR/sv/AIKM2nyxeNPgvfAdGm8O6tAx/wC%2Bbtx%2BlHn/APBRyH/mF/BK4/7f9Yhz/wCQnrRe1jtVX/gTMZY2hL48JU/8FRf/ALczcn/Yg/YwuTum/ZI%2BGZJ6keBdPB/SGq7fsGfsSucn9kn4c/h4Osx/KOsv%2B2/%2BCi8P%2Bs%2BHHwam/wCuXi7VV/8AQrGj/hKf%2BChi8H4N/CdvdfHGoD%2BdhV8%2BKX/L7/yd/wCZm8Rlz3wc/wDwQasf7B/7E0Zyv7JPw4P%2B94Msj/OOrdt%2BxT%2BxvZnda/smfDSMj%2BJfAmng/n5Nc/8A8JP/AMFDn4X4P/CVPd/G%2Bon%2BVhR/a3/BRmb7ngP4LQf9dPFOrOf0sh/OhzxT3rf%2BTv8AzBYjL1tg5/8AghHaWP7MP7NWlkHTf2efA1vjp5HhKzTH5RVu6Z8MfhtohB0b4e6HaEdDa6TDHj/vlRXl27/go7N/yx%2BCVt/211ifH/jqUf2D/wAFE7/5bn4mfB7Twf4rPwjqc7D/AL%2BXqg/lUNVJfFUX/gTZrHG0Y/BhKn/guK/9vR7YkaRII40CqBgKowBS14l/wqP9ubUPmv8A9sfw1YZ6ppfwrRsfRpr1v5Uf8M4ftM6n8niX9vbxUYz1TRvB%2BjWf5MbeRh%2BZrP2UOs1%2BP%2BRr/aGLfw4Sp83TX5zZ7bRXiR/YtuL3nxJ%2B138atQLfeVfGyWSn6CzgiIH41Ti/YW/ZG1fUbnTPFEut%2BJ7%2BzQPfRa/8RtUvJIlOcGSNrraAcHll5xRyUFvP7l/myXi81dksPGN/5qsf/bYM9d8TfE34b%2BClZvGXxB0PSQv3jqerQwY%2Bu9hXnmvft9/saeHrn7FcftF%2BGr2fOBBol4dRcn0C2okJPsKg%2BF37LH7Bl9YHWfhZ8FPhxq0EE5iN/aaXaX%2ByReq%2Bawchhn1zzXq%2Bg%2BFfC/hW2%2Bx%2BF/DdhpsOMeVYWaQr%2BSACj/Z13f3L/MUJ5ziIKUJUVF7Nc8/xvGLPIP8AhurwTrPPw3%2BB/wAV/FqN/q7jR/h7dQQt/wBtb0QIPxNH/C8v2w/FHy%2BCP2KxpcUn%2BqvfG3j2ztto9WhtFuX/AAyDXt1ZviLxj4Q8IW/2vxZ4q03S4sZ83Ub6OBcfVyBR7Sktofe2/wDIc8LjuXmr4txX92NOC%2B%2BXO/xPIv8AhEP%2BCgfjEbNe%2BM3w48FRHnHhjwrc6rOPbzLyaNPx8r8DR/wxlqnij958Yv2q/ij4nL/8fFlba%2BmjWco9PJ06OE49i5rb1v8Abd/ZS0S7/s8fG3SNSue1t4fMmpyMfQLaLITVL/hrW/1/938M/wBmf4ma8z/6i5n8Prpds/v5t9JEce4U0e3qL4bL0S/4LPKlV4acuWpiHWfb2k6v/ktO6/A0PA/7FH7KHw7vP7U8NfAbw819u3f2lqln9vut3r590ZJM%2B%2B6vT4YYbeJYLeJURFCoiLgKB0AA6V5B/wAJd%2B3B4t/5APwc8DeEIv8Anp4m8TzalNj18qziRM%2B3m/jSf8KI/aM8W/8AJSf2u9UtYH5ksPA3h210wL7CeYTy49wRWcpzm7ybfqdmHxdGhDkwGCnbyhGlH75uL/8AJWz1zUNS07SLOTUdVv4bW3iXMs9xKERB6liQBXmPiH9tT9mzRNRbQtL%2BI8XiLUxwuleELSbVp2b%2B7i0WQKf94iqVh%2Bxd%2BzQusxSeONGuvGOrhTIs3jjX7jVZXA4LeVPI0ePogFd18OdY%2BFBW58KfDCLS7WPTmxNY6ZZC3jQbiu5VCqrLlWXcuRkEZrJ1IKSi2rs0dbOq0lFulRvtdupL7l7OF/vOD/4Xp%2B0X46Gz4TfsrX9hBJxHq3xE1iLTEQ%2BptofOnI9iqH%2BVB%2BC37TXxA%2Bf4sftNNotrJ/rNH%2BG%2BjpZY9vtlyZZj9VCf4eq6/wCJvDfhWyOpeKPEFjptsOtxf3aQoP8AgTkCuEuf2rPhRdzvY%2BA/7Y8X3SNhoPCejTXij6ygCED3L1lVxWGoO1SaT7X1%2B7V/gYV8LhKbtmGLlNv7PMoJ%2BkKVpP75HIfHDwtZ%2BCviP%2BzL4U0/UL%2B7hsfjBexpc6pfPc3En/FFeKDuklkJZ2OepNe8V4X8e9Wvdd%2BKH7NGsajoF1pc9x8Yb55NPvWQywH/AIQrxR8rbGZc/QmvdK3jJSimup79JU40oqmrRsrb7W0312769wooopmgUUUUAFFFFABRRRQAUUUUAeM/t4f8kQ0P/ss3w4/9TXRK9SsvG/g7UdVm0Kx8U6fLfW8pins0u081HBwQUzn9K8t/bw/5Ihof/ZZvhx/6muiV6b4l%2BHfgTxgD/wAJR4Q06%2BYj/W3FopcfR8bh%2BBrixv8AaKgng%2BRu%2BqnzJNeThdp36tNeRMuboXdb8PaB4msm0zxHodnqFs33re%2BtklQ/VWBFeQ/GP4WfsrfAvwXqfxe8TatN8PdP0%2BPzLvV/D2tT6fg9kWKJtkjseFQIxYkAA5xUP7QGtfCn9lzwZ/wl8nj7xXpNxcSGHQvDeg3r3txq11jIt7a0m3%2BYx74wqjlioFeOfDj9lz9qn9pvxPoX7S37Yv8AY18mmsbnwd8KNaLLaaYp5S5uxCgSW7I7MhC55APyJnhY%2B2jOvm%2BE5YQSf7uVOrOetrU4p06u97yklCKT96UrQfgZpOnWqKhTw6qVu7V4wX80pJJruoqXNLokryOb8LfAP9qb/goNpSeLfiP4%2B1jRfhDb6hHeeD/BXje3WS88TRocpPqJtPIdYGwGSMsxPUcbZG%2Bo9H1r9oz4d6VbeHz8B/DGqafZQJDax%2BDteFmsESABUS3uY1VQAMBQ%2BBjArfHxF%2BIujjHij4K6iUXgz6FqEN4p9wjGN/0pY/j98NYXEGv397osxODFrelz22P%2BBOm39a5sfxVk2K5KbrvCwhpGE%2BenFevtoWlJ9ZObb8kkksHktDBJzjXmqjS5pN722VpqSUVf3Yp2S7u7eR/w07oWk8ePvhf438OBeJLi%2B8NSXECn/rra%2BauPfitXw5%2B0j8BPFbiHRfi5oLTE4FvcagkEufTy5SrfpXSaL4y8I%2BJAD4e8U6dfZ6fY71JP/QSaZ4j8CeCPGEZi8W%2BDtK1RSMFdR0%2BOcY/4GproozxFamp0K0Kke9lb/wAChJo9BU80gvcqwmv70WvxhL9DRtbu1vYFurK5jmicZWSJwyn6EdayvFPw6%2BH3jiMw%2BNfAmjawhGCuqaXFcAj0xIprkbr9kr4AvO15pPgU6POxyJ9A1K4sGU%2BoEEij8xUf/DPOu6V%2B88H/ALRHj2wZfuR3upw6hEP%2BA3MTsf8Avqtfa46PxUk/8Ml%2BUkvzJqTx0octbDxmvKcWvunFFHUv2GP2UL%2B7a/tPg1YaVcN/y38PXM%2BmsPobWSPFQf8ADH1jpn/Il/tEfFbQ1X/VQQeM3u4k9gl4kwx7Vq/8IR%2B1Do3z6R8ddB1fHSLXfB/l5%2Br206fooo/tr9rbSPnvfAfgXWlHbTteurN2/CWBwP8Avo0fXGvjpTXyv/6TJ/keW8Bkyd5YCUH3jC340akfyMr/AIUl%2B1HpPy%2BG/wBs26njX7kXiLwLYXXHoXg8hj9c0f2Z%2B3npH7u28WfCnW0Xo95o%2Bo2EjfUxzTKPwWtX/hcHxr075vEH7LesbB959H8RWF3%2BStJGx/Kl/wCGlbe2/wCQ18DviPYgfeZ/CjTqv427yCj%2B0MKvibXrGS/9tF7LKYfDXrU/%2B36y/wDS4TRk/wDCfftsaL8uqfs6eDNZx1fRfiBJBn6C4sx%2BpFH/AAvz9orT/m1/9ifxEEHV9J8WaVdfkDNGx/IVrf8ADW/wNg%2BXV9c1XTX7pqfhi/gx9S0GP1qzY/tXfs3agdsPxp8PofS5v1hx9fMximswwDdvax/8CS/Noanhr2p5m15SlRf/AKVCLMD/AIay1e1%2BXWP2Tfi5bEfeMXhu2uV/AwXLk/lS/wDDZ3gm3/5DXwg%2BKenDubz4bajgfikbA/hXb2Pxu%2BDGp4OnfF3wxcZ6eTr9u38nrWtPGfg%2B/wAGx8V6bNnp5V9G2fyNbxr0J/DNP0af5M6oQx8/4ePjL/uHSf8A6TUR5l/w3T%2BzrDxqereJbFu63ngHWEx%2BP2Uij/hvT9lBf9f8U2h/6%2BdAv4v/AEOAV67FPDOu%2BCZXHqjA06tTb2Ge9MRTf/cJ/pVPH/8Ahvr9j4ff%2BOulJ/11hnX%2BcYpR%2B3z%2Bxwf%2BbgtA/GVx/wCy16/SFVPUA/WgPY5//wA/qX/guf8A8tPIT%2B31%2BxwOn7QOgn2WSQ/yWj/hvj9kI/6v43adJ/1ytLh//QYzXr4AHQUUB7HP/wDn9S/8Fz/%2BWnkH/Def7Kzf6j4kXU//AF7eGNSl/wDQLc0f8NyfAaf/AJBC%2BL9QPYWXw91ds/8AfVsK9fqK4vrK0Gbq8iiHrJIF/nQ2luDoZ7bXE016Un%2BtU5v4WfFrRvi3p11qmieGPEemxWswjI8R%2BHrjT2lyM7o1nVS6%2B44zxXEfHKyvfC/xK8NfETSNSkhhGt2kOseX4mujPIkjeSsEVgSbdkbcC7Da/wApIBPNek3nxA8B6fn7f420iDHXztSiXH5tXJ6v8Q/2VIPEsfjTW/GvgD%2B2oECQ6pPqFkbtFGcKshO8AZPAPc%2BtYyxGHh8U0vVpfqZ42MauCjSq14c6afM2obO90lJ%2Blr2et2rnmnx3vNDPj3W9evrm0l8QSWmkS/DG6R0M07Jcf6Tb2bd3Zjh1Q5KSfN8o4z9Q8GXmveKLv4f6N4enTxS914ki8QXn2Bo0ubK7iZ45HmICukjeUiDJKnIAAU49Vb9q79mTSlWytfixorCNdscOnlpsD0AiU/pSf8NYfCO6%2BXQIvEurt2XTPB2oSZ%2BhMIB/Osf7RwH/AD9j8mn%2BVzxa2DymtXlOeLh7zu0rN66vVOT5vsqVrqHutMo/AGDWNR8Y6n4ofwlqei2r%2BHtLs72DU9NltTNfxRlZNqyKvmCNQsfmrlGGNjMBmt/4p/Cjxt8RdWtptE%2BPnibwpp8Vt5dxYeHbezDTvuJ8zzpoJHU4IGBxxnGc1nf8NF6hefLoX7PPxGu2P3TNoUdqp%2BpuJkI/Kk/4Wj%2B0JqH/ACB/2YZIFb7sms%2BMLSHHuVhEp/Cl9fwz%2BFt%2BkZP/ANtR6dKWWrBfVpSnUV7txjUV3e/2FGy8lKz1vuZX/DFvgHVPl8efFL4k%2BJ0P3odZ8fXqxH/gFs0Sj8AK0fD37Fv7KXhif7Xp/wABPDc8%2Bc/aNUsBeyZ9d9xvbPvnNSfaP2vdU%2BaLTfh5oyN0E1ze30i/gqwqT%2BNH/Ctf2jNV%2BbXP2kobJW%2B/DoHhC3jwPQPcPKfxwKPrc5fBRm/ko/8ApUv0M4YHKVLmp5e5PvKEb/fVnNnf6J4d8P8Ahq0Fh4c0Kz0%2BAdIbK1SJB%2BCgCre5d2zcNxGQM84rzX/hmmy1H/kb/jL8QNZVv9ZDN4me2if22WqxDFb/AMP/AIG/Cv4XalNrXgfwklpe3MHk3F7JcyzzSR7g21pJXZiMgHr2q4VMXOa5qaivOV39yVvxPYoVMa5KPsYwh/jTaXkoxt%2BKKXxr8QfEDwjpUfibwheNJDbkedp8OiG5MhGWZpZA%2BYoggOSqFs4wTkLVf4naF4h8S3ukeMfDt7bXelW1nJLdWtz4lubC2kB2Okv7kES4x0kwuCcmrvxWl03U9Q0jwdqN9q8UOpTtHdjS7wQgxNiMCU4LFWZguFIOT1xWX440/Q7A3mmDwZo97pPh6wg1G5sNVsjcErh0Bh3sVi2JE3O05K44zmvGx2Y4Wk6/NJtRcU0rtxlyue3bkTlLfSL0b0MMRh6tWpUV/dfLbV6SWulk9O6622OPvtTtdc12HxnFoF3b65r91o2qeGJpLJjMsUkYhmgLgEKIk8wyISBhi2CW56b4c%2BDvFej%2BKtC0a78M3Nnb%2BF7S/tJNULx%2BRd2zy/6LHHhizfuwrNlQEZCOc1cufEHi%2BN5rnTtckKXeoXul2unrBGBaukbmBo8LncAhJ3FgeMAAVe%2BFt/CdS%2BxaPqst3ZXWi21%2B4mu2nMMz/KRuclhu2sSpPBB6ZrzsJmeHrZjClyu8nu%2BVdW07K7fM4ttppxVlJdsaGWxjWU5Su7p6JK%2Bt9d95a3VmlZHQeJvh74E8a3lnqHjDwdpmqzadvNi%2Bo2STeQX27iu8HBO1efYVqQw2mn2ohgijghiXCoihVRR7DgCsbxhoXiLxHNBZ6B8QZ9FSNWN4lnaQySyg424aQHy8c8gHOe2OcdPgL4Hu3E3i261bxDIDkNrmqyzKP%2B2YKx/%2BO17VfFZisTKODwql3nKpCMW7doxnUdttUtfLU9bkUKjlGCTe70V/XS7%2BZxf7TFxb3fxo/ZvubWdJY3%2BMt8UkjYMrD/hCvFHQjrXtNeJftHaZpujfGD9m3S9IsIbW2g%2BMl8sNvbxBEQf8IV4o4CjgV7bXr0/aezXtLc1le17X62vra%2B19e5srhRRRVgFFFFABRRRQAUUUUAcx4c%2BNvwY8Y/EHWfhJ4R%2BLvhjVfFfhxFfxD4Z03X7afUNLVsbWuLZHMkAO5cF1Gcj1osPjb8GNV%2BKV78DdL%2BLvhi58babZLeaj4Pt9ftn1S1tiEImktA/nJGRJHh2UA7155FfHH7PHh7xn4M%2BNngDQPEHwg8a6dqXw08VfEe88feJm8D6i1pqNtrOsu9p9mukgKaj9see1vWW3aXyFtGNx5LRgVd%2BGvgD4gwftPeEPhxcfCjxRb674U/aV8beOvE3jG48M3UelXfhzUdL1uKx8vUmjFvdSEalpNqbVJGlT7AzMirAhIB73%2B3h/yRDQ/wDss3w4/wDU10Sq37UP7Ungb9lqe207R7HVfFfj/wAVEw%2BE/h5pd20s%2BoTseJSnPkQgg7pSMABsAkEBP22fg/8AtP8Axh8KaLpfwA8VeAlttJ8YeG9d1Dw54w029hfVW0vXrHUzHHqltLILEMloVy1hdbmIHyBty%2BBfsOeBf2tLC48VftFWv7Onw28U%2BM9Z8Z%2BINF1bxf4w%2BOuom%2BC6Zq93pr28CxeGCkNvvs2KhNu9dhZUwsUetHB5PXqxxGOhzuk%2BaEVdNys18Sa5Y2%2BLSTa0SvrHixs8y5FRwjUefSU3Z8q8o/ak/s7RT1ldaP0/4M/snfF867cftJftR61p/ib4k6zbiCDToQ/2Hwtauw22lkBuHy5JeTHzNzliu9vePGUmmXFjbSz3lmptlaZbG63Az4UjavKtkHpweccV5/8A8Jx/wUL/AOjX/gz/AOH41b/5l6R/Gv8AwUHkwJP2XPgw2DkZ%2BO%2BrHB9f%2BRWr5bPOH3nGIxmI9p72IjCLjJNwgoO8VBKzUU7NQblDSzTUp378v9ll9CnSgtItu9/ek3u5N7t9Xo%2B1kkl391qN6Lgz2t3NAtrPbQQWYYEOWAdw%2BcknY2BzxjNWtL1u/wBQvYBe%2BS9rqCTNDAIuUVGwpJydwZeTwMEivLX1/wDb2k1JdXf9lH4Km5UYWb/he%2BrZHGP%2BhX64JGfeotK1X9vvSJzPb/sxfB5yE2RLL8e9WIhTOdiD/hFuB/gPSvJoZHxDhsxjNVr03O7tJpWT0bi00%2BaF6fs4WhG0Za2TO2VfDTpNcutu36%2But3q9j1LWvhB8LfELGTV/h/pMrnrMtkiSf99KA361m/8ACifC1l/yLPiLxHow7JpviCfZ/wB8SM6/hivGJvjl%2B3Z4y%2BMut/A62/Zo%2BGdjqvhjwxpOu3V5a/H7VI4JYNSuNSt4UU/8IwSzq2lTlgygASR4LEsF6/TPFn/BRCwsY7Of9m74P3TIDmef48arvfknnHhYD26dq9SeS5dicynGrl0FG11VTgnJ6XTUFTqRe%2Brk07eaOGVGg4KV1ftZr8djuP8AhX3xQ07jQ/jfdug%2B7Hq%2BjW9x%2BbII2/Wjb%2B0Lp/Ak8Iamq92W5tHb8vMGa47/AITj/goX/wBGv/Bn/wAPxq3/AMy9H/Ccf8FC/wDo1/4M/wDh%2BNW/%2BZeuj/V7DQ/gVq1P/DWm190/aIy9mujf3/8ADnY/8Jx8XrL/AJCXwSMwH3n0zxDBJn3CyiM0f8LlktuNX%2BE/jG1I%2B8y6OJ1H4wu9cd/wnH/BQv8A6Nf%2BDP8A4fjVv/mXrl9W/aO/bt0f4z6B8Drj9lD4SNqniLwvq%2Bu2dynx11TyI4NOudNt5kcnwxuDs2qQFQFIISTJUhQx/ZebU/4WPn/2/Toz/JU2HLPpL8j1r/hoL4XRfLqerXtg3ddQ0a6hx9S0eP1ra8KfETwN45aVPCHimz1BoVDTJbTBmQHoSOorzP8A4Tj/AIKF/wDRr/wZ/wDD8at/8y9MTxf/AMFAopWnj/ZX%2BCyu4%2BZ1%2BOuqgn6n/hFq3w1HPadde3r05w62pyjL5NVJR%2B9DSqJ6tfd/wT0Px7421Lw7JBY%2BH9PjurgzQG780NshhklEYJx/ExJCj254qv8AEDX4LS6lsovCun6i1npz3%2Bofb8AJbqSML8jbnO1sA4HHJFeUeLtL/bY8azRXet/sh/BB7mOaJ/tf/C8NU81ljcMELf8ACLZ2nGCPQnGKg8SWv/BRTxAd4%2BAPwbga509rDU3Hxt1Qm5tmJO0f8UwPLYBmAYZxuPHSvNx1LiLmxLpu6k48nK1okp3VpKybfI5O8k0pWtonE4zkmnqv67noF7pfwk1fWI4r34J%2BHbnTZLuO0kv7nTbdnWZ494HlmMgqOjMWBB6AjmqPh/4Tfs6eNNQ%2ByXX7O3h2zS4tjc2Ex0a3X7TFu2lsIoKHODtPYg15H8YPiN%2B3d8HdNtPGniT9mf4RXGh3njjQ7BNLsfjXqhmF7ql/a6RAxkbw2o8hZrxJXAXeArFS2Ah63wmn/BRXw9d2t1qH7PfwXvPsGmLZWgT426tEQu7LOx/4RltzHC9MDg8c8c1DC53LGx9vTi4c2t40rW1T6cyjazh9rmvzaHLLA4WpL36MH6xh/wDInoMv7IX7NMrb/wDhTukIfWGNo/8A0FhTf%2BGQf2dh/qvh55f/AFx1a7T/ANBlFcX4uu/%2BCiHiyKCOH4GfDHSTAzHfpH7QOqRmTOOG3eFGyBjj6msP/hHP%2BCk0f%2Bo8F%2BCB/wBdP2gL1v5%2BD69DFUp0a7jSy6NSP8ylRjf/ALdkk1bbciWU5ZfTDQ/8Biv0R6h/wyL8Ah9zwpqCf9c/FGor/K4o/wCGRvgT28P6wPp4w1T/AOSa8v8A7G/4KdL/AKvwh8PR/vfHO7b/AN1CuX%2BNvxC/4KTfAf4MeLvjj4p8CeA7rS/Bnhi/13UrWw%2BNNw1xNb2ltJcSJGH8JqpcrGQoZlGSMkDmufmr/wDQqf8A4HQ/%2BSRP9lZb/wBA0fuie8f8MjfAjv4d1c/Xxfqh/wDbmj/hkT4AdH8H3r/9dPEuoN/OevL/AOyv%2BCoZ%2B94T%2BHP4fG26H/uo0f2J/wAFNm/1vg/4fn/c%2BOt2v/uoUc1d7ZU//A6H/wAkw/srLf8AoGj90T1D/hkD9nJv9b8NIZf%2Bu%2BoXMn/oUpqW3/ZI/ZptTmP4MaGx/wCmtrv/APQia8q/4Rn/AIKQvzP4I8FN7J%2B0LfJ/LwhR/wAIj/wULf8A1/w18Gv/AN3K6sn/AKB4UFC%2BudMqj86lD/5BjWVZatsLD/wGH/yLPZrP9nL9n6wwbb4I%2BFAR0ZvD9ux/MoTWvY/DD4aaXj%2BzPh5oVvjp5GkQpj8lrwL/AIQb9uuT/j9%2BCHgW59RP%2B1B4g/p4ZFcv8Eb39pv49/Bjwh8ctB/Y7%2BGg03xn4X0/XdOt9Z/aT19p4re7to7iNJVXw8yBwsgDBSwyDgkc1tGWcr%2BHgKUfWrH/ANsoM3hhMPT%2BCjBeiivygfXSJpWjw7UW3tYx2AVF/pVC9%2BIHgPTc/wBo%2BNtIt8dfP1KJMfm1fP8AB8Nv2o4H8wfsNfAiRvW4%2BOmryn/x/wAMGtOy0b9r/TsGw/Yc/Z9hI7x/GPUAfz/4RWtlPieW1OhD1nVl%2BUIHSvaJWSS%2B89WvPj18GrJtknxI0qQ9hb3IlJ%2BmzOagPx88AXHGjRa1qTdl0/w9dyZ%2Bh8sA/nXD2fib9vnT122H7J/wSgHpD8c9VX%2BXhap/%2BE4/4KF/9Gv/AAZ/8Pxq3/zL0fV%2BJanxYilH/DSlL8Z1V%2BKC1Xuvu/4J2P8AwtzWrz5NE%2BDPiydj0N1aw2qn8ZZQR%2BVH/CWfG3UPk0/4R2FlnpJqniNTj6rDG/8AOvJvAP7R37dvxE8V%2BN/CGj/sofCSG48B%2BKItC1WS5%2BOuqBJ55NK0/Uw8W3wwSU8nUYVJYKd6OMYAZuo/4Tj/AIKF/wDRr/wZ/wDD8at/8y9H9lZnU/i4%2Bp/25ClD/wBsm/xDkk95fkdj/Z/7QOpfJdeJfC2lKe9nps904/GSRAfyrX8I%2BGvGGjXct34p%2BIlxrPmR7UgbTobeOI5zuAQbie3LGvN/%2BE4/4KF/9Gv/AAZ/8Pxq3/zL0f8ACcf8FC/%2BjX/gz/4fjVv/AJl63w%2BS4ehWjWlVqzktuerNr/wFcsH84sagk73f3ne%2BN/hjH4vu31KHxLqNnOwt8Jb3G2L9zIXUkKA2QWbGGGCc1F4/8IjULB7s38/224iazZLXai3cBLN5MgYPlQpfLDDYLcjJrz698U/8FEbu5t54/wBnL4QQLA5Z4ofjxqm2b2bPhUnH0x1rlh8dP22/GXxj1z4E3P7JPwlbUvDXhrSNfubl/jzqy27wajcanbQohXwzuLq2mTlwVC4kjwWJYL5uZ5IsXhsZDD0VGpUslJz0k7fGkublceaaV46vo4tp7U4UI1Iynquq1/zX4dD2vUvC9ldT2HjLQdLnW7lMbzG0kXO0xbd4SU%2BXvC4XeRuxxmq0yaTFJPqOmg2BFpJMDGBE0lzFIRKZAmBI/ABzng8da890/Uv2/dO0pNGt/wBmb4QLAihVWL4%2B6vGRyTkFPCwIJzzzViPXf29IrSOx/wCGTvgo8UTbo1l%2BO2rPhs53ZbwuTnPfrXh1%2BFs0x0ed8tOU4wc1duKqqPK3Dk5ZRTbc5O65pRhpozshXw1F%2B6r2btok7Pve%2BvT0uehWg2a3Hutymoyal5hcRnL27orNlu6jlRzwVArptVs7q/sXtLTU5bSRsYuIVUsozzjcCORx%2BNeQ/wDCcf8ABQr/AKNf%2BDP/AIfjVv8A5l6P%2BE4/4KF/9Gv/AAZ/8Pxq3/zL19HlXD9PLsLXw85uUar1teDs003eMk%2Bd8z5ppxbtHqrmNbEurOMkrNfP8%2BnkQ/tI2jWPxi/ZttHu5rgx/GS%2BBmnYF3/4orxRySABn8K9sr5X%2BJ/iX9q3V/2k/wBnS1%2BNfwX%2BHvh/Rx8XNRaO%2B8LfE6%2B1i5M//CF%2BJtqGCfRbJQhBYl/NJBAGw5JX6or3qVKFGlGnBWUUkt3olZattv1bb7tvU523J3YUUUVoIKKKKACiiigAooooAKo%2BKPENh4S8Naj4r1UObXTLGa7uREuW8uNC7YHc4U1eqO7tLW/tZbG9t0mhmjaOaKVQyupGCpB4II4xQB83/sa/tS/Hz4qeMNG8K/H/AE3wkj%2BN/hPp3xA8Lr4T0%2B5t/wCy7e4lCT6ZdNPcTC6khE1ptu4xAspeX9xFsG7ybR/%2BCjvxy8FfC/TfilrPgLwPPpnxV%2BF%2Bq%2BOvhNoujabc2T6bN/aulW1va6rM1xKt01w2v2U8s8MUGxo7obHJRz79%2Bz/%2Bwv4Q/Zz1i11rwn8ZfHWqSaZoun6BoaeILnTrgaZ4fsjMYNGhK2SMbfdMC00he8k8iEPcsIwKwdJ/4JjfAi00bW/Cuu%2BM/GWtaJe%2BEtR8MeFtH1HUrZIvBuk3t1Fdz22lvb20cyfv7azdJLiSeSP7Dbqjqse0gHYfsu/F34r%2BMfEvxD%2BD/wAcrnw9feJ/h54ltbGbW/CukT6fY6paXWm2t9DMtrPc3Mlu6meWFkM8gPkCQECTYnrtef8AwB/Z80j4C2fiC5Pj7xD4u17xZrg1bxN4r8VtafbtRuFtYLSLctlb29vEkdvbQRqkUKL8hYgu7u3oFABXy78Bv2xvjb8QPjF4Wk8baZ4WXwH8TNa8XaZ4Ks9L025i1XS5NFu5YoZLy4e5eK6W7t7a5mKxwwG3by48z5Mg%2Boq8M8HfsGeBvAXxLk%2BJHhf4u%2BN4Ba3ur3fhXQJJ9Ok0/wAMT6rfJe6m9kj2RkJuJFdf9IefyY55Ut/IVsAAp3vxU%2BOXgP8Aba8NfCrxDqPgHXtM8fWuqyrpnh/wvdWut%2BH9IsI2kt769vHvJY7uAzzLbbRb2%2B2a%2BXYXCyZyf%2BCa/wC1P8Xf2lvhfb6j%2B0X4n0S08fnwpomreI/h7a/CfW/CV94YmvLd3lili1e7nkvofOSWGO6iWOJmtZcFzkJ1fw//AGMT8Ov2hPGf7Q%2Bl/tMfES8vPHV2Zda0PUotCltI4kgeG1tIJv7MF7DbWu9pIYRc7BI8juJGmmMm38GP2Y7X4U/EHWfi34p%2BMvjDx/4r1rR7TSJNe8Y/2bHJbafbSzzR20MOm2dpAi%2BbcSuzmMyOSoZyqIqgHp9FFFAHy7%2B01%2B2N8bfhX8U/GL/DzTPCzeDfhNovhvU/HdtrOm3M2o6xHql9cRTR2M0dzHHaNbWtv54aSK4E8koixCFMhm/a4/aV%2BJnwT/aY8J6Sur%2BHvCXgRvClxda78QfEXwi1nX7e0ma/tovscmoWN3b2%2BjxSRjzDNdEx5iQnhMV23xn/AGIfhx8bvikfiZrnjnxVpcWo2ukWvi/w1o11app3imDS72S9sYr5ZbeSYLHNNLn7PLAZY5DFMZYwqCX44fsjT/tB%2BDm%2BGnxD/aT%2BITeFdS0WTSfF/huxTRYbfxPaSMwmiu5BpvnxCSJ2hf7JLb5jOOG%2BagDz7/hsb42f8NA%2BZ/Znhb/hWP8Awuf/AIVp9g/s25/tv7Z/Zvn/ANqfavtPkeV9t/0X7L9n3eX%2B/wDPz%2B5r6irxn/hiH4cf8L//AOF7f8Jz4q%2Bz/wDCV/8ACVf8IJ9qtf7E/t/%2Bzf7N/tTZ9n%2B0%2Bb9m/wCWX2j7P5v7/wAnzv3lezUAFfPX7Xn7RP7QHgP4gQfC79nC18Irqen/AA113xvrNx4y025uobqCwktYodNhFvcQGCS4e4kzdMZVgEI/cTGTC/QteR/tL/seeD/2mdQsta1H4k%2BL/COoW/h/U/D99qPg28tYZtS0XUPIN5p8xubacLHI1tCwliEdxEUJimj3vuAOT/aq%2BPnj2y/Yn/4a8%2BEfibwlpOl2HgtfF0uleNfAVzrsmoYt47uytreO31Ky8q5M3lqhzITI0e0KQCeU1L9qv9qL4fftK%2BDvhF8e/EfhDwboVx4A8G3Ov69/wqLXr/TdZ8UajfalaajpdrrEd%2BtlpIV7WxW3S786Rm1CMZlJVT7V43/Zg8F/EL4eaR8KfE3iTWX8P6J4t0rXLHS7f7JDFs028hvLLTmCW43WcctvAdp/eMsQV5GBbdU%2BNf7LUHx78TWdx43%2BN/jWPwpb32nXt58O7A6ZHpOoz2V0l1C80psmvsedFCzxx3SRuIgrKVZ1cA9UooooA8X/AOCgvxd%2BOH7P37I/jT49fAK98KR6x4J0K71y6g8YaLc31td2lrbSzPboltdWzJK7IiiQuVQFiUfgVd/bB%2BJ/i7wJ4O8NeBfh7pmg3GvfEfxla%2BFNNl8VabJe6ZarPDPcXM1zbRywtcotpa3OIRLH5jlFLqCSNT9rH9nGy/a0%2BBGvfs%2B618VfFPhHSfE9lLY65f8AhBdO%2B13NlLE8U1tuv7S6jRHV%2BWRFkBUbXXnOd43/AGVpPiV8OrPwR48/aC8dajqek6np2qaB4xMWjwanpOpWZJW8hEGnJbM8gZ1kSWCSFkkdPLCsVIB8%2B3v7fn7Vfibw1qGgfDnQvAEHi74f%2BGvGmr/ECTV9JvZLDV38P6xJpkVrYIl2j2QvjBNP50r3P2QbEMVySWH2L4E8X6b8QfBGjePdGjlSz1vSrfULRJlw6xTRLIoYDocMM14L4j/4Jk/CHXPA%2BneDNN%2BLHxA0WaPSdf0vxPr2kanZJf8Aiuy1u8%2B3atDfvJaOgNxdbpfNtUt5YDI4t3gVitfRGmabp%2Bjabb6PpNlHbWtpAkNtbwoFSKNQFVFA4AAAAHtQBPXNfGKT4mw/DLWJ/g5rWg6d4litd%2BmXvibSpr6xiKsC5lggnt5JR5YfCrLH8xXLYzXS1hfEzwdqnxB8B6n4L0b4g6z4VuNRt/JTxB4fhs5LyzBILNEt7b3FuSQCp8yFxhjgA4IAOC%2BAnxR%2BMH7Q37Efw/8AjX4fufDWj%2BNfHHw40TXGlvNKuLjS7O8vLKC4lP2ZbhJpIlMj7Y/PViAoMnVq8Bvf2zP2o9B%2BDmnp4C0jwrdQaP8AHO78Cah488HfBrXde0eTQrPRLq5fUbTRNNvWuo1i1GFNJci5liSWCVs7SoX2Hwl%2Bw1P4M/ZLT9jzSf2t/iuug2vghPCula/DPoltrGm2MaJFE8FxbaXGqzJAghWUoTtJc5lxKNHwf%2ByN4m%2BHvwQ0n4G%2BAf2vPiNolroVwi6Tq%2Bl6J4VhuLWwS3WCPTUhXRPsa2ybQ6kW/nBjjzdmEAB6F8HfG%2Bm/Er4T%2BGviBpHjjSPE1vrOh2t2niHw/aNb2OpF4lY3EETyytDG5JZY2kkZAQrOxBJ6SuX%2BCvwh8G/AP4U6D8HPh/FcrpHh7T0tLNr65aaeUDJaWWRuXkdizs3dmJwOldRQAV4v%2Bxz8Xfjh8Srr4peDvj9e%2BFLvWfh/8TG8PW194P0W5sLW4tW0bStSQtFc3Vy5kVtQeMuHCuI1YImSK9orxf4E/seax8CfGni/xraftZfErxHJ448Vw%2BINesfENp4dED3aWtvZkJ9k0iB0je3tLaJgHziEMpV2dmAPDPBH7f8A8VfBnw3%2BMXxE%2BL0Phq28XeG9L8Qaxonwwb4Ua14Zvr%2BOyv30%2ByvG1K/upItVt5I109ZLm1h2RfaYskDYh95/Zk%2BLnxj8R%2BPvH/wL%2BP8Ad%2BGdQ8TeBbrTJl1zwho9xp1jqFjf2nmxN9muLm5eGVJYrmJh5zhljjkGzeY0zNc/YI8DfETVfEGq/Hr4weOfiGdc8E6v4StIPEk%2BnWyaLpOpyQPew2n9m2VqfMc2lpieYyzJ9mTa6kuW7H4Afs56V8Bj4h1i4%2BJHibxp4i8V6jDd%2BIPFnjCSzN9d%2BRbR20EW2ytra3jijijAVY4lyzyO255HZgD0SiiigDxf4K/F344a1%2B1x8WfgL8VL3wpdaP4Y0Lw9rnhCfw/otza3MVpqVzrMP2e8ea6mW4lRdMibzI0gXMrjYcA1z/iT4iftLeFf2/PBfwg0zxV8OdV8OeLtI1jWPENnB8Pry31nS9B05Eit9%2Bo/2q8Ush1DUbdVVrRVZGuiqqVJroNF/Y81jQP2i/GH7SWnftZfEoah4z0qy0y90J7Tw6dPs7SznuprSKAf2R548o3t0oaSaRmWY7y5VCvaaX8C/Cul/HDxL%2B0CmranNr/iTwxpugN580Zh06yspbuZFtlEYKM8t7K8jMX3lIhwI1AAPHv%2BCcX7U/xd/aP8C%2Bb%2B0X4n0Sy8d/8ACM6Rqus/Dy3%2BE%2Bt%2BFL7w411HKZFkXV7uZ9RgMqPFHdQJHEWtpeXJwn0rXl3wb/Zftvhb8RdU%2BL/i340%2BMviD4p1LRLfRk1vxkdNjez0%2BGWSYW8MWm2VpAoaWVnd2jaRiEBfaiqPUaACvB/2tfjN%2B0F8BvEnhfxd4M8QeCL3w9rXi7QvDtt4FvvDl5JrmuXN7fLDctaXsd6sUJgtWkutjWkw8u0mZ3jQF4/eK8Z%2BJP7HK/ET9p3RP2prf9o74gaFqvh/QxpWmaBpkOiXGlwQPN5ty0aX2mXE0MtyBHHNLFKjtHDGisgHIBwv7bH7UPxm%2BFvjLxBZ/Brw54Ouk%2BE/wpuviV4mHizSp7mbUYVa6hi0%2BwkiuIRYzyw2uoKbtxOqbo18l1dyKuk/ts/GLWvjZa67Y6d4XPwqu/i%2Bnw6hsW0u5GuG5bSxcjVDc/afIEX2wi2%2ByfZ93l/v/AD8/ua7j46fsI%2BCv2g2im8bfGDxxbTXfhe78MeL59IuNOgbxXoVzMJZNMvh9iKrF99Fkthbzok0oWUeY5NqP9hz4aQ/HtfjhD418UJaJ4pHihfAS3NoNDXXhpv8AZo1MJ9m%2B0%2Bb9m48r7R9n8z995PnfvKAPaKKKKACiiigAooooAKKKKACiiigAooooAKKKKACiiigAooooAKKKKACiiigAooooAKKKKACiiigAooooAKKKKACiiigAooooAKKKKACiiigAooooAKKKKACiiigAooooAKKKKACiiigAooooAKKKKACiiigD/9k%3D\">"
      ]
     },
     "metadata": {},
     "output_type": "display_data"
    }
   ],
   "source": [
    "try:\n",
    "    display_html(HTML(anim.to_html5_video()))\n",
    "# In case the build-in renderers are unaviable, fall back to\n",
    "# a custom one, that doesn't require external libraries\n",
    "except RuntimeError:\n",
    "    anim.save(None, writer=matplotlib_utils.SimpleMovieWriter(0.001))"
   ]
  },
  {
   "cell_type": "markdown",
   "metadata": {},
   "source": [
    "# Logistic regression\n",
    "Your assignment is to implement the logistic regression\n",
    "\n",
    "Plan:\n",
    "* Use a shared variable for weights\n",
    "* Use a matrix placeholder for `X`\n",
    " \n",
    "We shall train on a two-class MNIST dataset\n",
    "* please note that target `y` are `{0,1}` and not `{-1,1}` as in some formulae"
   ]
  },
  {
   "cell_type": "code",
   "execution_count": 49,
   "metadata": {},
   "outputs": [
    {
     "name": "stdout",
     "output_type": "stream",
     "text": [
      "y [shape - (360,)]: [0 1 0 1 0 1 0 0 1 1]\n",
      "X [shape - (360, 64)]:\n"
     ]
    }
   ],
   "source": [
    "from sklearn.datasets import load_digits\n",
    "mnist = load_digits(2)\n",
    "\n",
    "X, y = mnist.data, mnist.target\n",
    "\n",
    "print(\"y [shape - %s]:\" % (str(y.shape)), y[:10])\n",
    "print(\"X [shape - %s]:\" % (str(X.shape)))"
   ]
  },
  {
   "cell_type": "code",
   "execution_count": 50,
   "metadata": {},
   "outputs": [
    {
     "name": "stdout",
     "output_type": "stream",
     "text": [
      "X:\n",
      " [[  0.   0.   5.  13.   9.   1.   0.   0.   0.   0.]\n",
      " [  0.   0.   0.  12.  13.   5.   0.   0.   0.   0.]\n",
      " [  0.   0.   1.   9.  15.  11.   0.   0.   0.   0.]]\n",
      "y:\n",
      " [0 1 0 1 0 1 0 0 1 1]\n"
     ]
    },
    {
     "data": {
      "image/png": "[encoded data removed]",
      "text/plain": [
       "<matplotlib.figure.Figure at 0x4494403da0>"
      ]
     },
     "metadata": {},
     "output_type": "display_data"
    }
   ],
   "source": [
    "print('X:\\n',X[:3,:10])\n",
    "print('y:\\n',y[:10])\n",
    "plt.imshow(X[0].reshape([8,8]));"
   ]
  },
  {
   "cell_type": "markdown",
   "metadata": {},
   "source": [
    "It's your turn now!\n",
    "Just a small reminder of the relevant math:\n",
    "\n",
    "$$\n",
    "P(y=1|X) = \\sigma(X \\cdot W + b)\n",
    "$$\n",
    "$$\n",
    "\\text{loss} = -\\log\\left(P\\left(y_\\text{predicted} = 1\\right)\\right)\\cdot y_\\text{true} - \\log\\left(1 - P\\left(y_\\text{predicted} = 1\\right)\\right)\\cdot\\left(1 - y_\\text{true}\\right)\n",
    "$$\n",
    "\n",
    "$\\sigma(x)$ is available via `tf.nn.sigmoid` and matrix multiplication via `tf.matmul`"
   ]
  },
  {
   "cell_type": "code",
   "execution_count": 51,
   "metadata": {},
   "outputs": [],
   "source": [
    "from sklearn.model_selection import train_test_split\n",
    "X_train, X_test, y_train, y_test = train_test_split(\n",
    "    X, y, random_state=42)"
   ]
  },
  {
   "cell_type": "markdown",
   "metadata": {},
   "source": [
    "__Your code goes here.__ For the training and testing scaffolding to work, please stick to the names in comments."
   ]
  },
  {
   "cell_type": "code",
   "execution_count": 95,
   "metadata": {},
   "outputs": [],
   "source": [
    "# Model parameters - weights and bias\n",
    "weights = tf.get_variable('w2',[X_train.shape[1],1])\n",
    "b = tf.get_variable('b2', [])"
   ]
  },
  {
   "cell_type": "code",
   "execution_count": 110,
   "metadata": {},
   "outputs": [],
   "source": [
    "# Placeholders for the input data\n",
    "input_X = tf.placeholder('float32', shape=(None, X_train.shape[1]))\n",
    "input_y = tf.placeholder('float32', shape=(None,))"
   ]
  },
  {
   "cell_type": "code",
   "execution_count": 111,
   "metadata": {},
   "outputs": [
    {
     "name": "stdout",
     "output_type": "stream",
     "text": [
      "<tf.Variable 'w2:0' shape=(64, 1) dtype=float32_ref>\n",
      "Tensor(\"Placeholder_19:0\", shape=(?, 64), dtype=float32)\n",
      "Tensor(\"Placeholder_20:0\", shape=(?,), dtype=float32)\n",
      "<tf.Variable 'b2:0' shape=() dtype=float32_ref>\n",
      "Tensor(\"Reshape_18:0\", shape=(?,), dtype=float32)\n",
      "Tensor(\"Log_22:0\", shape=(?,), dtype=float32)\n",
      "Tensor(\"Mean_17:0\", shape=(), dtype=float32)\n"
     ]
    }
   ],
   "source": [
    "# The model code\n",
    "\n",
    "# Compute a vector of predictions, resulting shape should be [input_X.shape[0],]\n",
    "# This is 1D, if you have extra dimensions, you can  get rid of them with tf.squeeze .\n",
    "# Don't forget the sigmoid.\n",
    "print(weights)\n",
    "print(input_X)\n",
    "print(input_y)\n",
    "print(b)\n",
    "pre_y = tf.nn.bias_add(tf.matmul(input_X, weights),tf.reshape(b,[1]))\n",
    "predicted_y = tf.reshape(tf.nn.sigmoid(pre_y),[-1])\n",
    "print(predicted_y)\n",
    "log_pre = tf.log(predicted_y)\n",
    "log_pre1 = tf.log(1-predicted_y)\n",
    "print(log_pre)\n",
    "# Loss. Should be a scalar number - average loss over all the objects\n",
    "# tf.reduce_mean is your friend here\n",
    "loss = tf.reduce_mean(-log_pre*input_y-log_pre1*(1-input_y))\n",
    "print(loss)\n",
    "\n",
    "# See above for an example. tf.train.*Optimizer\n",
    "optimizer = tf.train.MomentumOptimizer(0.01, 0.5).minimize(\n",
    "    loss, var_list=[weights, b])"
   ]
  },
  {
   "cell_type": "markdown",
   "metadata": {},
   "source": [
    "A test to help with the debugging"
   ]
  },
  {
   "cell_type": "code",
   "execution_count": 112,
   "metadata": {},
   "outputs": [],
   "source": [
    "validation_weights = 1e-3 * np.fromiter(map(lambda x:\n",
    "        s.run(weird_psychotic_function, {my_scalar:x, my_vector:[1, 0.1, 2]}),\n",
    "                                   0.15 * np.arange(1, X.shape[1] + 1)),\n",
    "                                   count=X.shape[1], dtype=np.float32)[:, np.newaxis]\n",
    "# Compute predictions for given weights and bias\n",
    "prediction_validation = s.run(\n",
    "    predicted_y, {\n",
    "    input_X: X,\n",
    "    weights: validation_weights,\n",
    "    b: 1e-1})\n",
    "\n",
    "# Load the reference values for the predictions\n",
    "validation_true_values = np.loadtxt(\"validation_predictons.txt\")\n",
    "\n",
    "assert prediction_validation.shape == (X.shape[0],),\\\n",
    "       \"Predictions must be a 1D array with length equal to the number \" \\\n",
    "       \"of examples in input_X\"\n",
    "assert np.allclose(validation_true_values, prediction_validation)\n",
    "loss_validation = s.run(\n",
    "        loss, {\n",
    "            input_X: X[:100],\n",
    "            input_y: y[-100:],\n",
    "            weights: validation_weights+1.21e-3,\n",
    "            b: -1e-1})\n",
    "assert np.allclose(loss_validation, 0.728689)"
   ]
  },
  {
   "cell_type": "code",
   "execution_count": 113,
   "metadata": {},
   "outputs": [
    {
     "name": "stdout",
     "output_type": "stream",
     "text": [
      "loss at iter 0:0.7265\n",
      "train auc: 0.834019543259\n",
      "test auc: 0.864624505929\n",
      "loss at iter 1:0.2121\n",
      "train auc: 0.975790513834\n",
      "test auc: 0.993577075099\n",
      "loss at iter 2:0.0895\n",
      "train auc: 0.995278875714\n",
      "test auc: 1.0\n",
      "loss at iter 3:0.0437\n",
      "train auc: 0.999066754502\n",
      "test auc: 1.0\n",
      "loss at iter 4:nan\n",
      "train auc: 0.999615722442\n",
      "test auc: 1.0\n"
     ]
    }
   ],
   "source": [
    "from sklearn.metrics import roc_auc_score\n",
    "s.run(tf.global_variables_initializer())\n",
    "for i in range(5):\n",
    "    s.run(optimizer, {input_X: X_train, input_y: y_train})\n",
    "    loss_i = s.run(loss, {input_X: X_train, input_y: y_train})\n",
    "    print(\"loss at iter %i:%.4f\" % (i, loss_i))\n",
    "    print(\"train auc:\", roc_auc_score(y_train, s.run(predicted_y, {input_X:X_train})))\n",
    "    print(\"test auc:\", roc_auc_score(y_test, s.run(predicted_y, {input_X:X_test})))"
   ]
  },
  {
   "cell_type": "markdown",
   "metadata": {},
   "source": [
    "### Coursera submission"
   ]
  },
  {
   "cell_type": "code",
   "execution_count": 114,
   "metadata": {},
   "outputs": [],
   "source": [
    "grade_submitter = grading.Grader(\"BJCiiY8sEeeCnhKCj4fcOA\")"
   ]
  },
  {
   "cell_type": "code",
   "execution_count": 115,
   "metadata": {},
   "outputs": [],
   "source": [
    "test_weights = 1e-3 * np.fromiter(map(lambda x:\n",
    "    s.run(weird_psychotic_function, {my_scalar:x, my_vector:[1, 2, 3]}),\n",
    "                               0.1 * np.arange(1, X.shape[1] + 1)),\n",
    "                               count=X.shape[1], dtype=np.float32)[:, np.newaxis]"
   ]
  },
  {
   "cell_type": "markdown",
   "metadata": {},
   "source": [
    "First, test prediction and loss computation. This part doesn't require a fitted model."
   ]
  },
  {
   "cell_type": "code",
   "execution_count": 116,
   "metadata": {},
   "outputs": [],
   "source": [
    "prediction_test = s.run(\n",
    "    predicted_y, {\n",
    "    input_X: X,\n",
    "    weights: test_weights,\n",
    "    b: 1e-1})"
   ]
  },
  {
   "cell_type": "code",
   "execution_count": 117,
   "metadata": {},
   "outputs": [],
   "source": [
    "assert prediction_test.shape == (X.shape[0],),\\\n",
    "       \"Predictions must be a 1D array with length equal to the number \" \\\n",
    "       \"of examples in X_test\""
   ]
  },
  {
   "cell_type": "code",
   "execution_count": 118,
   "metadata": {},
   "outputs": [],
   "source": [
    "grade_submitter.set_answer(\"0ENlN\", prediction_test)"
   ]
  },
  {
   "cell_type": "code",
   "execution_count": 119,
   "metadata": {},
   "outputs": [],
   "source": [
    "loss_test = s.run(\n",
    "    loss, {\n",
    "        input_X: X[:100],\n",
    "        input_y: y[-100:],\n",
    "        weights: test_weights+1.21e-3,\n",
    "        b: -1e-1})\n",
    "# Yes, the X/y indices mistmach is intentional"
   ]
  },
  {
   "cell_type": "code",
   "execution_count": 120,
   "metadata": {},
   "outputs": [],
   "source": [
    "grade_submitter.set_answer(\"mMVpM\", loss_test)"
   ]
  },
  {
   "cell_type": "code",
   "execution_count": 121,
   "metadata": {},
   "outputs": [],
   "source": [
    "grade_submitter.set_answer(\"D16Rc\", roc_auc_score(y_test, s.run(predicted_y, {input_X:X_test})))"
   ]
  },
  {
   "cell_type": "markdown",
   "metadata": {},
   "source": [
    "Please use the credentials obtained from the Coursera assignment page."
   ]
  },
  {
   "cell_type": "code",
   "execution_count": 122,
   "metadata": {},
   "outputs": [
    {
     "name": "stdout",
     "output_type": "stream",
     "text": [
      "Submitted to Coursera platform. See results on assignment page!\n"
     ]
    }
   ],
   "source": [
    "grade_submitter.submit('hkhats95@gmail.com', 'e3PVRl5o5Gx9UWc9')"
   ]
  },
  {
   "cell_type": "code",
   "execution_count": null,
   "metadata": {},
   "outputs": [],
   "source": []
  }
 ],
 "metadata": {
  "kernelspec": {
   "display_name": "Python 3",
   "language": "python",
   "name": "python3"
  },
  "language_info": {
   "codemirror_mode": {
    "name": "ipython",
    "version": 3
   },
   "file_extension": ".py",
   "mimetype": "text/x-python",
   "name": "python",
   "nbconvert_exporter": "python",
   "pygments_lexer": "ipython3",
   "version": "3.5.3"
  }
 },
 "nbformat": 4,
 "nbformat_minor": 1
}
